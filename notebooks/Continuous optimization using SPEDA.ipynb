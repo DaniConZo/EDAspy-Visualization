{
 "cells": [
  {
   "cell_type": "markdown",
   "metadata": {},
   "source": [
    "# Continuous optimization using SPEDA"
   ]
  },
  {
   "cell_type": "markdown",
   "metadata": {},
   "source": [
    "In this notebook we use the SPEDA approach to optimize a wellknown benchmark. Note that SPEDA learns and samples a semiparametric Bayesian network in each iteration, allowing to estimate variables with KDE and coexist with others estimated with Gaussians.\n",
    "\n",
    "Import the algorithm and the benchmarks from EDAspy."
   ]
  },
  {
   "cell_type": "code",
   "execution_count": 1,
   "metadata": {},
   "outputs": [
    {
     "ename": "ImportError",
     "evalue": "DLL load failed while importing pybnesian: No se puede encontrar el módulo especificado.",
     "output_type": "error",
     "traceback": [
      "\u001B[1;31m---------------------------------------------------------------------------\u001B[0m",
      "\u001B[1;31mImportError\u001B[0m                               Traceback (most recent call last)",
      "\u001B[1;32m<ipython-input-1-7854f39ebed7>\u001B[0m in \u001B[0;36m<module>\u001B[1;34m\u001B[0m\n\u001B[1;32m----> 1\u001B[1;33m \u001B[1;32mfrom\u001B[0m \u001B[0mEDAspy\u001B[0m\u001B[1;33m.\u001B[0m\u001B[0moptimization\u001B[0m \u001B[1;32mimport\u001B[0m \u001B[0mSPEDA\u001B[0m\u001B[1;33m\u001B[0m\u001B[1;33m\u001B[0m\u001B[0m\n\u001B[0m\u001B[0;32m      2\u001B[0m \u001B[1;32mfrom\u001B[0m \u001B[0mEDAspy\u001B[0m\u001B[1;33m.\u001B[0m\u001B[0mbenchmarks\u001B[0m \u001B[1;32mimport\u001B[0m \u001B[0mContinuousBenchmarkingCEC14\u001B[0m\u001B[1;33m\u001B[0m\u001B[1;33m\u001B[0m\u001B[0m\n",
      "\u001B[1;32m~\\PycharmProjects\\EDAspy\\EDAspy\\optimization\\__init__.py\u001B[0m in \u001B[0;36m<module>\u001B[1;34m\u001B[0m\n\u001B[0;32m      4\u001B[0m \u001B[1;31m# __init__.py\u001B[0m\u001B[1;33m\u001B[0m\u001B[1;33m\u001B[0m\u001B[1;33m\u001B[0m\u001B[0m\n\u001B[0;32m      5\u001B[0m \u001B[1;33m\u001B[0m\u001B[0m\n\u001B[1;32m----> 6\u001B[1;33m \u001B[1;32mfrom\u001B[0m \u001B[1;33m.\u001B[0m\u001B[0munivariate\u001B[0m \u001B[1;32mimport\u001B[0m \u001B[0mUMDAd\u001B[0m\u001B[1;33m,\u001B[0m \u001B[0mUMDAc\u001B[0m\u001B[1;33m,\u001B[0m \u001B[0mUnivariateKEDA\u001B[0m\u001B[1;33m\u001B[0m\u001B[1;33m\u001B[0m\u001B[0m\n\u001B[0m\u001B[0;32m      7\u001B[0m \u001B[1;32mfrom\u001B[0m \u001B[1;33m.\u001B[0m\u001B[0mmultivariate\u001B[0m \u001B[1;32mimport\u001B[0m \u001B[0mEGNA\u001B[0m\u001B[1;33m,\u001B[0m \u001B[0mEMNA\u001B[0m\u001B[1;33m,\u001B[0m \u001B[0mSPEDA\u001B[0m\u001B[1;33m,\u001B[0m \u001B[0mMultivariateKEDA\u001B[0m\u001B[1;33m\u001B[0m\u001B[1;33m\u001B[0m\u001B[0m\n\u001B[0;32m      8\u001B[0m \u001B[1;33m\u001B[0m\u001B[0m\n",
      "\u001B[1;32m~\\PycharmProjects\\EDAspy\\EDAspy\\optimization\\univariate\\__init__.py\u001B[0m in \u001B[0;36m<module>\u001B[1;34m\u001B[0m\n\u001B[0;32m      4\u001B[0m \u001B[1;31m# __init__.py\u001B[0m\u001B[1;33m\u001B[0m\u001B[1;33m\u001B[0m\u001B[1;33m\u001B[0m\u001B[0m\n\u001B[0;32m      5\u001B[0m \u001B[1;33m\u001B[0m\u001B[0m\n\u001B[1;32m----> 6\u001B[1;33m \u001B[1;32mfrom\u001B[0m \u001B[1;33m.\u001B[0m\u001B[0mumda_continuous\u001B[0m \u001B[1;32mimport\u001B[0m \u001B[0mUMDAc\u001B[0m\u001B[1;33m\u001B[0m\u001B[1;33m\u001B[0m\u001B[0m\n\u001B[0m\u001B[0;32m      7\u001B[0m \u001B[1;32mfrom\u001B[0m \u001B[1;33m.\u001B[0m\u001B[0mumda_binary\u001B[0m \u001B[1;32mimport\u001B[0m \u001B[0mUMDAd\u001B[0m\u001B[1;33m\u001B[0m\u001B[1;33m\u001B[0m\u001B[0m\n\u001B[0;32m      8\u001B[0m \u001B[1;32mfrom\u001B[0m \u001B[1;33m.\u001B[0m\u001B[0mkeda\u001B[0m \u001B[1;32mimport\u001B[0m \u001B[0mUnivariateKEDA\u001B[0m\u001B[1;33m\u001B[0m\u001B[1;33m\u001B[0m\u001B[0m\n",
      "\u001B[1;32m~\\PycharmProjects\\EDAspy\\EDAspy\\optimization\\univariate\\umda_continuous.py\u001B[0m in \u001B[0;36m<module>\u001B[1;34m\u001B[0m\n\u001B[0;32m      3\u001B[0m \u001B[1;33m\u001B[0m\u001B[0m\n\u001B[0;32m      4\u001B[0m \u001B[1;32mimport\u001B[0m \u001B[0mnumpy\u001B[0m \u001B[1;32mas\u001B[0m \u001B[0mnp\u001B[0m\u001B[1;33m\u001B[0m\u001B[1;33m\u001B[0m\u001B[0m\n\u001B[1;32m----> 5\u001B[1;33m \u001B[1;32mfrom\u001B[0m \u001B[1;33m.\u001B[0m\u001B[1;33m.\u001B[0m\u001B[0mcustom\u001B[0m\u001B[1;33m.\u001B[0m\u001B[0mprobabilistic_models\u001B[0m \u001B[1;32mimport\u001B[0m \u001B[0mUniGauss\u001B[0m\u001B[1;33m\u001B[0m\u001B[1;33m\u001B[0m\u001B[0m\n\u001B[0m\u001B[0;32m      6\u001B[0m \u001B[1;32mfrom\u001B[0m \u001B[1;33m.\u001B[0m\u001B[1;33m.\u001B[0m\u001B[0mcustom\u001B[0m\u001B[1;33m.\u001B[0m\u001B[0minitialization_models\u001B[0m \u001B[1;32mimport\u001B[0m \u001B[0mUniGaussGenInit\u001B[0m\u001B[1;33m\u001B[0m\u001B[1;33m\u001B[0m\u001B[0m\n\u001B[0;32m      7\u001B[0m \u001B[1;32mfrom\u001B[0m \u001B[1;33m.\u001B[0m\u001B[1;33m.\u001B[0m\u001B[0meda\u001B[0m \u001B[1;32mimport\u001B[0m \u001B[0mEDA\u001B[0m\u001B[1;33m\u001B[0m\u001B[1;33m\u001B[0m\u001B[0m\n",
      "\u001B[1;32m~\\PycharmProjects\\EDAspy\\EDAspy\\optimization\\custom\\__init__.py\u001B[0m in \u001B[0;36m<module>\u001B[1;34m\u001B[0m\n\u001B[0;32m      4\u001B[0m \u001B[1;31m# __init__.py\u001B[0m\u001B[1;33m\u001B[0m\u001B[1;33m\u001B[0m\u001B[1;33m\u001B[0m\u001B[0m\n\u001B[0;32m      5\u001B[0m \u001B[1;33m\u001B[0m\u001B[0m\n\u001B[1;32m----> 6\u001B[1;33m \u001B[1;32mfrom\u001B[0m \u001B[1;33m.\u001B[0m\u001B[0minitialization_models\u001B[0m \u001B[1;32mimport\u001B[0m \u001B[0mMultiGaussGenInit\u001B[0m\u001B[1;33m,\u001B[0m \u001B[0mUniBinGenInit\u001B[0m\u001B[1;33m,\u001B[0m \u001B[0mUniGaussGenInit\u001B[0m\u001B[1;33m,\u001B[0m \u001B[0mUniformGenInit\u001B[0m\u001B[1;33m\u001B[0m\u001B[1;33m\u001B[0m\u001B[0m\n\u001B[0m\u001B[0;32m      7\u001B[0m \u001B[1;32mfrom\u001B[0m \u001B[1;33m.\u001B[0m\u001B[0mprobabilistic_models\u001B[0m \u001B[1;32mimport\u001B[0m \u001B[0mGBN\u001B[0m\u001B[1;33m,\u001B[0m \u001B[0mMultiGauss\u001B[0m\u001B[1;33m,\u001B[0m \u001B[0mUniGauss\u001B[0m\u001B[1;33m,\u001B[0m \u001B[0mUniBin\u001B[0m\u001B[1;33m,\u001B[0m \u001B[0mSPBN\u001B[0m\u001B[1;33m\u001B[0m\u001B[1;33m\u001B[0m\u001B[0m\n\u001B[0;32m      8\u001B[0m \u001B[1;32mfrom\u001B[0m \u001B[1;33m.\u001B[0m\u001B[0meda_custom\u001B[0m \u001B[1;32mimport\u001B[0m \u001B[0mEDACustom\u001B[0m\u001B[1;33m\u001B[0m\u001B[1;33m\u001B[0m\u001B[0m\n",
      "\u001B[1;32m~\\PycharmProjects\\EDAspy\\EDAspy\\optimization\\custom\\initialization_models\\__init__.py\u001B[0m in \u001B[0;36m<module>\u001B[1;34m\u001B[0m\n\u001B[0;32m      6\u001B[0m \u001B[1;32mfrom\u001B[0m \u001B[1;33m.\u001B[0m\u001B[0m_generation_init\u001B[0m \u001B[1;32mimport\u001B[0m \u001B[0mGenInit\u001B[0m\u001B[1;33m\u001B[0m\u001B[1;33m\u001B[0m\u001B[0m\n\u001B[0;32m      7\u001B[0m \u001B[1;32mfrom\u001B[0m \u001B[1;33m.\u001B[0m\u001B[0muniform_geninit\u001B[0m \u001B[1;32mimport\u001B[0m \u001B[0mUniformGenInit\u001B[0m\u001B[1;33m\u001B[0m\u001B[1;33m\u001B[0m\u001B[0m\n\u001B[1;32m----> 8\u001B[1;33m \u001B[1;32mfrom\u001B[0m \u001B[1;33m.\u001B[0m\u001B[0muni_bin_geninit\u001B[0m \u001B[1;32mimport\u001B[0m \u001B[0mUniBinGenInit\u001B[0m\u001B[1;33m\u001B[0m\u001B[1;33m\u001B[0m\u001B[0m\n\u001B[0m\u001B[0;32m      9\u001B[0m \u001B[1;32mfrom\u001B[0m \u001B[1;33m.\u001B[0m\u001B[0muni_gauss_geninit\u001B[0m \u001B[1;32mimport\u001B[0m \u001B[0mUniGaussGenInit\u001B[0m\u001B[1;33m\u001B[0m\u001B[1;33m\u001B[0m\u001B[0m\n\u001B[0;32m     10\u001B[0m \u001B[1;32mfrom\u001B[0m \u001B[1;33m.\u001B[0m\u001B[0mmulti_gauss_geninit\u001B[0m \u001B[1;32mimport\u001B[0m \u001B[0mMultiGaussGenInit\u001B[0m\u001B[1;33m\u001B[0m\u001B[1;33m\u001B[0m\u001B[0m\n",
      "\u001B[1;32m~\\PycharmProjects\\EDAspy\\EDAspy\\optimization\\custom\\initialization_models\\uni_bin_geninit.py\u001B[0m in \u001B[0;36m<module>\u001B[1;34m\u001B[0m\n\u001B[0;32m      3\u001B[0m \u001B[1;33m\u001B[0m\u001B[0m\n\u001B[0;32m      4\u001B[0m \u001B[1;32mimport\u001B[0m \u001B[0mnumpy\u001B[0m \u001B[1;32mas\u001B[0m \u001B[0mnp\u001B[0m\u001B[1;33m\u001B[0m\u001B[1;33m\u001B[0m\u001B[0m\n\u001B[1;32m----> 5\u001B[1;33m \u001B[1;32mfrom\u001B[0m \u001B[1;33m.\u001B[0m\u001B[1;33m.\u001B[0m\u001B[0mprobabilistic_models\u001B[0m \u001B[1;32mimport\u001B[0m \u001B[0mUniBin\u001B[0m\u001B[1;33m\u001B[0m\u001B[1;33m\u001B[0m\u001B[0m\n\u001B[0m\u001B[0;32m      6\u001B[0m \u001B[1;32mfrom\u001B[0m \u001B[1;33m.\u001B[0m\u001B[0m_generation_init\u001B[0m \u001B[1;32mimport\u001B[0m \u001B[0mGenInit\u001B[0m\u001B[1;33m\u001B[0m\u001B[1;33m\u001B[0m\u001B[0m\n\u001B[0;32m      7\u001B[0m \u001B[1;33m\u001B[0m\u001B[0m\n",
      "\u001B[1;32m~\\PycharmProjects\\EDAspy\\EDAspy\\optimization\\custom\\probabilistic_models\\__init__.py\u001B[0m in \u001B[0;36m<module>\u001B[1;34m\u001B[0m\n\u001B[0;32m      8\u001B[0m \u001B[1;32mfrom\u001B[0m \u001B[1;33m.\u001B[0m\u001B[0munivariate_gaussian\u001B[0m \u001B[1;32mimport\u001B[0m \u001B[0mUniGauss\u001B[0m\u001B[1;33m\u001B[0m\u001B[1;33m\u001B[0m\u001B[0m\n\u001B[0;32m      9\u001B[0m \u001B[1;32mfrom\u001B[0m \u001B[1;33m.\u001B[0m\u001B[0mmultivariate_gaussian\u001B[0m \u001B[1;32mimport\u001B[0m \u001B[0mMultiGauss\u001B[0m\u001B[1;33m\u001B[0m\u001B[1;33m\u001B[0m\u001B[0m\n\u001B[1;32m---> 10\u001B[1;33m \u001B[1;32mfrom\u001B[0m \u001B[1;33m.\u001B[0m\u001B[0mgaussian_bayesian_network\u001B[0m \u001B[1;32mimport\u001B[0m \u001B[0mGBN\u001B[0m\u001B[1;33m\u001B[0m\u001B[1;33m\u001B[0m\u001B[0m\n\u001B[0m\u001B[0;32m     11\u001B[0m \u001B[1;32mfrom\u001B[0m \u001B[1;33m.\u001B[0m\u001B[0msemiparametric_bayesian_network\u001B[0m \u001B[1;32mimport\u001B[0m \u001B[0mSPBN\u001B[0m\u001B[1;33m\u001B[0m\u001B[1;33m\u001B[0m\u001B[0m\n\u001B[0;32m     12\u001B[0m \u001B[1;32mfrom\u001B[0m \u001B[1;33m.\u001B[0m\u001B[0mkde_bayesian_network\u001B[0m \u001B[1;32mimport\u001B[0m \u001B[0mKDEBN\u001B[0m\u001B[1;33m\u001B[0m\u001B[1;33m\u001B[0m\u001B[0m\n",
      "\u001B[1;32m~\\PycharmProjects\\EDAspy\\EDAspy\\optimization\\custom\\probabilistic_models\\gaussian_bayesian_network.py\u001B[0m in \u001B[0;36m<module>\u001B[1;34m\u001B[0m\n\u001B[0;32m      3\u001B[0m \u001B[1;33m\u001B[0m\u001B[0m\n\u001B[0;32m      4\u001B[0m \u001B[1;32mimport\u001B[0m \u001B[0mnumpy\u001B[0m \u001B[1;32mas\u001B[0m \u001B[0mnp\u001B[0m\u001B[1;33m\u001B[0m\u001B[1;33m\u001B[0m\u001B[0m\n\u001B[1;32m----> 5\u001B[1;33m \u001B[1;32mfrom\u001B[0m \u001B[0mpybnesian\u001B[0m \u001B[1;32mimport\u001B[0m \u001B[0mGaussianNetwork\u001B[0m\u001B[1;33m,\u001B[0m \u001B[0mhc\u001B[0m\u001B[1;33m,\u001B[0m \u001B[0mGaussianNetworkType\u001B[0m\u001B[1;33m\u001B[0m\u001B[1;33m\u001B[0m\u001B[0m\n\u001B[0m\u001B[0;32m      6\u001B[0m \u001B[1;32mfrom\u001B[0m \u001B[1;33m.\u001B[0m\u001B[0m_probabilistic_model\u001B[0m \u001B[1;32mimport\u001B[0m \u001B[0mProbabilisticModel\u001B[0m\u001B[1;33m\u001B[0m\u001B[1;33m\u001B[0m\u001B[0m\n\u001B[0;32m      7\u001B[0m \u001B[1;32mimport\u001B[0m \u001B[0mpandas\u001B[0m \u001B[1;32mas\u001B[0m \u001B[0mpd\u001B[0m\u001B[1;33m\u001B[0m\u001B[1;33m\u001B[0m\u001B[0m\n",
      "\u001B[1;31mImportError\u001B[0m: DLL load failed while importing pybnesian: No se puede encontrar el módulo especificado."
     ]
    }
   ],
   "source": [
    "from EDAspy.optimization import SPEDA\n",
    "from EDAspy.benchmarks import ContinuousBenchmarkingCEC14"
   ]
  },
  {
   "cell_type": "markdown",
   "metadata": {},
   "source": [
    "We will be using a benchmark with 10 variables"
   ]
  },
  {
   "cell_type": "code",
   "execution_count": 2,
   "metadata": {},
   "outputs": [],
   "source": [
    "n_variables = 10\n",
    "benchmarking = ContinuousBenchmarkingCEC14(n_variables)"
   ]
  },
  {
   "cell_type": "markdown",
   "metadata": {},
   "source": [
    "We initialize the algorithm and run it in the benchmark."
   ]
  },
  {
   "cell_type": "code",
   "execution_count": 3,
   "metadata": {
    "scrolled": true
   },
   "outputs": [
    {
     "name": "stdout",
     "output_type": "stream",
     "text": [
      "IT:  0 \tBest cost:  1983.0600557992716\n",
      "IT:  1 \tBest cost:  1717.2458115869235\n",
      "IT:  2 \tBest cost:  1345.397352000382\n",
      "IT:  3 \tBest cost:  1090.4621067730397\n",
      "IT:  4 \tBest cost:  1090.4621067730397\n",
      "IT:  5 \tBest cost:  1014.7210532064382\n",
      "IT:  6 \tBest cost:  1014.7210532064382\n",
      "IT:  7 \tBest cost:  1014.7210532064382\n",
      "IT:  8 \tBest cost:  1014.7210532064382\n",
      "IT:  9 \tBest cost:  1014.7210532064382\n",
      "IT:  10 \tBest cost:  1014.7210532064382\n",
      "IT:  11 \tBest cost:  1014.7210532064382\n",
      "IT:  12 \tBest cost:  1014.7210532064382\n",
      "IT:  13 \tBest cost:  958.4937012646919\n",
      "IT:  14 \tBest cost:  920.6566358759854\n",
      "IT:  15 \tBest cost:  838.6515620453281\n",
      "IT:  16 \tBest cost:  697.4075117981077\n",
      "IT:  17 \tBest cost:  697.4075117981077\n",
      "IT:  18 \tBest cost:  697.4075117981077\n",
      "IT:  19 \tBest cost:  697.4075117981077\n",
      "IT:  20 \tBest cost:  697.4075117981077\n",
      "IT:  21 \tBest cost:  697.4075117981077\n",
      "IT:  22 \tBest cost:  697.4075117981077\n",
      "IT:  23 \tBest cost:  697.4075117981077\n",
      "IT:  24 \tBest cost:  612.2267993146127\n",
      "IT:  25 \tBest cost:  590.5951606516369\n",
      "IT:  26 \tBest cost:  590.5951606516369\n",
      "IT:  27 \tBest cost:  590.5951606516369\n",
      "IT:  28 \tBest cost:  590.5951606516369\n",
      "IT:  29 \tBest cost:  590.5951606516369\n",
      "IT:  30 \tBest cost:  590.5951606516369\n",
      "IT:  31 \tBest cost:  577.4992006880968\n",
      "IT:  32 \tBest cost:  577.4992006880968\n",
      "IT:  33 \tBest cost:  555.1299845824008\n",
      "IT:  34 \tBest cost:  525.6369244058195\n",
      "IT:  35 \tBest cost:  525.6369244058195\n",
      "IT:  36 \tBest cost:  525.6369244058195\n",
      "IT:  37 \tBest cost:  525.6369244058195\n",
      "IT:  38 \tBest cost:  525.6369244058195\n",
      "IT:  39 \tBest cost:  525.6369244058195\n",
      "IT:  40 \tBest cost:  525.6369244058195\n",
      "IT:  41 \tBest cost:  525.6369244058195\n",
      "IT:  42 \tBest cost:  525.6369244058195\n",
      "IT:  43 \tBest cost:  514.7119881547262\n",
      "IT:  44 \tBest cost:  514.7119881547262\n",
      "IT:  45 \tBest cost:  496.0130176470529\n",
      "IT:  46 \tBest cost:  494.02820521305455\n",
      "IT:  47 \tBest cost:  494.02820521305455\n",
      "IT:  48 \tBest cost:  479.4226064841659\n",
      "IT:  49 \tBest cost:  479.4226064841659\n",
      "IT:  50 \tBest cost:  479.4226064841659\n",
      "IT:  51 \tBest cost:  479.4226064841659\n",
      "IT:  52 \tBest cost:  479.4226064841659\n",
      "IT:  53 \tBest cost:  479.4226064841659\n",
      "IT:  54 \tBest cost:  479.4226064841659\n",
      "IT:  55 \tBest cost:  479.4226064841659\n",
      "IT:  56 \tBest cost:  477.2525948766476\n",
      "IT:  57 \tBest cost:  477.2525948766476\n",
      "IT:  58 \tBest cost:  477.2525948766476\n",
      "IT:  59 \tBest cost:  477.2525948766476\n",
      "IT:  60 \tBest cost:  477.2525948766476\n",
      "IT:  61 \tBest cost:  477.2525948766476\n",
      "IT:  62 \tBest cost:  477.2525948766476\n",
      "IT:  63 \tBest cost:  477.2525948766476\n",
      "IT:  64 \tBest cost:  477.2525948766476\n",
      "IT:  65 \tBest cost:  477.2525948766476\n",
      "IT:  66 \tBest cost:  477.2525948766476\n",
      "IT:  67 \tBest cost:  477.2525948766476\n",
      "IT:  68 \tBest cost:  476.9437475733457\n",
      "IT:  69 \tBest cost:  460.2613808826845\n",
      "IT:  70 \tBest cost:  460.2613808826845\n",
      "IT:  71 \tBest cost:  460.2613808826845\n",
      "IT:  72 \tBest cost:  460.2613808826845\n",
      "IT:  73 \tBest cost:  460.2613808826845\n",
      "IT:  74 \tBest cost:  460.2613808826845\n",
      "IT:  75 \tBest cost:  460.2613808826845\n",
      "IT:  76 \tBest cost:  460.2613808826845\n",
      "IT:  77 \tBest cost:  460.2613808826845\n",
      "IT:  78 \tBest cost:  460.2613808826845\n",
      "IT:  79 \tBest cost:  460.2613808826845\n",
      "IT:  80 \tBest cost:  460.2613808826845\n",
      "IT:  81 \tBest cost:  460.2613808826845\n",
      "IT:  82 \tBest cost:  460.2613808826845\n",
      "IT:  83 \tBest cost:  460.2613808826845\n",
      "IT:  84 \tBest cost:  460.2613808826845\n",
      "IT:  85 \tBest cost:  460.2613808826845\n",
      "IT:  86 \tBest cost:  460.2613808826845\n",
      "IT:  87 \tBest cost:  460.2613808826845\n",
      "IT:  88 \tBest cost:  460.2613808826845\n",
      "\tNFVALS = 27000 F = 460.2613808826845\n",
      "\tX = [-72.36981176  -2.92899211 -77.39512931 -48.15001626  26.20759651\n",
      " -60.53683576  48.86518011  47.00659811  33.6556901  -65.24674526]\n"
     ]
    }
   ],
   "source": [
    "speda = SPEDA(size_gen=300, max_iter=100, dead_iter=20, n_variables=10,\n",
    "              landscape_bounds=(-60, 60), l=10)\n",
    "\n",
    "eda_result = speda.minimize(benchmarking.cec14_4, True)"
   ]
  },
  {
   "cell_type": "markdown",
   "metadata": {},
   "source": [
    "We plot the best cost found in each iteration of the algorithm."
   ]
  },
  {
   "cell_type": "code",
   "execution_count": 5,
   "metadata": {},
   "outputs": [
    {
     "data": {
      "image/png": "[encoded data removed]",
      "text/plain": [
       "<Figure size 1008x432 with 1 Axes>"
      ]
     },
     "metadata": {
      "needs_background": "light"
     },
     "output_type": "display_data"
    }
   ],
   "source": [
    "import matplotlib.pyplot as plt\n",
    "\n",
    "plt.figure(figsize = (14,6))\n",
    "\n",
    "plt.title('Best cost found in each iteration of EDA')\n",
    "plt.plot(list(range(len(eda_result.history))), eda_result.history, color='b')\n",
    "plt.xlabel('iteration')\n",
    "plt.ylabel('MAE')\n",
    "plt.show()"
   ]
  },
  {
   "cell_type": "code",
   "execution_count": null,
   "metadata": {},
   "outputs": [],
   "source": []
  }
 ],
 "metadata": {
  "kernelspec": {
   "display_name": "Python 3",
   "language": "python",
   "name": "python3"
  },
  "language_info": {
   "codemirror_mode": {
    "name": "ipython",
    "version": 3
   },
   "file_extension": ".py",
   "mimetype": "text/x-python",
   "name": "python",
   "nbconvert_exporter": "python",
   "pygments_lexer": "ipython3",
   "version": "3.7.6"
  }
 },
 "nbformat": 4,
 "nbformat_minor": 4
}