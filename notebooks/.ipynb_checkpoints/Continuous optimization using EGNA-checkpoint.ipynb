{
 "cells": [
  {
   "cell_type": "markdown",
   "metadata": {
    "collapsed": true,
    "pycharm": {
     "name": "#%% md\n"
    }
   },
   "source": [
    "# Continuous optimization using EGNA"
   ]
  },
  {
   "cell_type": "markdown",
   "metadata": {
    "pycharm": {
     "name": "#%% md\n"
    }
   },
   "source": [
    "In this notebook we use the EGNA approach to optimize a wellknown benchmark. Note that EGNA learns and sampled a GBN in each iteration.\n",
    "\n",
    "Import the algorithm and the benchmarks from EDAspy"
   ]
  },
  {
   "cell_type": "code",
   "execution_count": 1,
   "metadata": {
    "pycharm": {
     "name": "#%%\n"
    }
   },
   "outputs": [],
   "source": [
    "from EDAspy.optimization import EGNA\n",
    "from EDAspy.benchmarks import ContinuousBenchmarkingCEC14"
   ]
  },
  {
   "cell_type": "markdown",
   "metadata": {
    "pycharm": {
     "name": "#%% md\n"
    }
   },
   "source": [
    "We will be using a benchmark with 10 variables"
   ]
  },
  {
   "cell_type": "code",
   "execution_count": 2,
   "metadata": {
    "pycharm": {
     "name": "#%%\n"
    }
   },
   "outputs": [],
   "source": [
    "n_variables = 10\n",
    "benchmarking = ContinuousBenchmarkingCEC14(n_variables)"
   ]
  },
  {
   "cell_type": "markdown",
   "metadata": {
    "pycharm": {
     "name": "#%% md\n"
    }
   },
   "source": [
    "We initialize the algorithm and run it in the benchmark"
   ]
  },
  {
   "cell_type": "code",
   "execution_count": 3,
   "metadata": {
    "pycharm": {
     "name": "#%%\n"
    }
   },
   "outputs": [
    {
     "name": "stderr",
     "output_type": "stream",
     "text": [
      "C:\\Users\\vicen\\PycharmProjects\\EDAspy\\EDAspy\\optimization\\custom\\probabilistic_models\\multivariate_gaussian.py:39: RuntimeWarning: covariance is not positive-semidefinite.\n",
      "  dataset = np.random.multivariate_normal(self.pm_means, self.pm_cov, size)\n"
     ]
    },
    {
     "name": "stdout",
     "output_type": "stream",
     "text": [
      "IT:  0 \tBest cost:  3780.8485265072804\n",
      "IT:  1 \tBest cost:  3646.5150978306547\n",
      "IT:  2 \tBest cost:  3410.087208555896\n",
      "IT:  3 \tBest cost:  2965.284073419195\n",
      "IT:  4 \tBest cost:  2481.766182967078\n",
      "IT:  5 \tBest cost:  2459.4633871286037\n",
      "IT:  6 \tBest cost:  2204.3774562143094\n",
      "IT:  7 \tBest cost:  2184.813233383163\n",
      "IT:  8 \tBest cost:  1895.2277999712803\n",
      "IT:  9 \tBest cost:  1794.869510290087\n",
      "IT:  10 \tBest cost:  1788.394628815777\n",
      "IT:  11 \tBest cost:  1689.3313138108126\n",
      "IT:  12 \tBest cost:  1607.1663282583008\n",
      "IT:  13 \tBest cost:  1512.9033413934906\n",
      "IT:  14 \tBest cost:  1435.9127963114322\n",
      "IT:  15 \tBest cost:  1404.4617596817386\n",
      "IT:  16 \tBest cost:  1375.781368185548\n",
      "IT:  17 \tBest cost:  1276.357994293596\n",
      "IT:  18 \tBest cost:  1255.4602949261348\n",
      "IT:  19 \tBest cost:  1212.0874919355313\n",
      "IT:  20 \tBest cost:  1176.8486431066347\n",
      "IT:  21 \tBest cost:  1128.400851185564\n",
      "IT:  22 \tBest cost:  1121.8045847564208\n",
      "IT:  23 \tBest cost:  1058.8846765114426\n",
      "IT:  24 \tBest cost:  1058.8846765114426\n",
      "IT:  25 \tBest cost:  1058.8846765114426\n",
      "IT:  26 \tBest cost:  1033.471796421206\n",
      "IT:  27 \tBest cost:  1001.3656597969702\n",
      "IT:  28 \tBest cost:  1001.3656597969702\n",
      "IT:  29 \tBest cost:  984.8553006300211\n",
      "IT:  30 \tBest cost:  978.1795783100392\n",
      "IT:  31 \tBest cost:  974.2593616219873\n",
      "IT:  32 \tBest cost:  945.879186786058\n",
      "IT:  33 \tBest cost:  942.9714815753516\n",
      "IT:  34 \tBest cost:  935.253450445889\n",
      "IT:  35 \tBest cost:  920.8753793594558\n",
      "IT:  36 \tBest cost:  916.9178942686356\n",
      "IT:  37 \tBest cost:  911.9158684730123\n",
      "IT:  38 \tBest cost:  901.7643610851317\n",
      "IT:  39 \tBest cost:  894.5192695083051\n",
      "IT:  40 \tBest cost:  894.5192695083051\n",
      "IT:  41 \tBest cost:  885.1695911534406\n",
      "IT:  42 \tBest cost:  883.2411033837571\n",
      "IT:  43 \tBest cost:  880.7240748695398\n",
      "IT:  44 \tBest cost:  874.8684343477653\n",
      "IT:  45 \tBest cost:  870.4147793683978\n",
      "IT:  46 \tBest cost:  870.0994385758157\n",
      "IT:  47 \tBest cost:  866.6686553697003\n",
      "IT:  48 \tBest cost:  859.8481752672044\n",
      "IT:  49 \tBest cost:  859.8481752672044\n",
      "IT:  50 \tBest cost:  859.4849700127152\n",
      "IT:  51 \tBest cost:  857.7624690079215\n",
      "IT:  52 \tBest cost:  853.9585597621647\n",
      "IT:  53 \tBest cost:  852.9528979325075\n",
      "IT:  54 \tBest cost:  851.3072588550592\n",
      "IT:  55 \tBest cost:  850.3230465342235\n",
      "IT:  56 \tBest cost:  847.822582267182\n",
      "IT:  57 \tBest cost:  846.9834289380702\n",
      "IT:  58 \tBest cost:  844.0768089751762\n",
      "IT:  59 \tBest cost:  844.0768089751762\n",
      "IT:  60 \tBest cost:  842.6077332158538\n",
      "IT:  61 \tBest cost:  841.7463649937804\n",
      "IT:  62 \tBest cost:  840.5822298272939\n",
      "IT:  63 \tBest cost:  840.2695433304134\n",
      "IT:  64 \tBest cost:  839.3297869673329\n",
      "IT:  65 \tBest cost:  838.0983860799412\n",
      "IT:  66 \tBest cost:  837.5299473610512\n",
      "IT:  67 \tBest cost:  836.6573695505522\n",
      "IT:  68 \tBest cost:  835.4563685858909\n",
      "IT:  69 \tBest cost:  834.6800338176045\n",
      "IT:  70 \tBest cost:  834.6800338176045\n",
      "IT:  71 \tBest cost:  833.3809481797269\n",
      "IT:  72 \tBest cost:  833.3809481797269\n",
      "IT:  73 \tBest cost:  833.1550743877407\n",
      "IT:  74 \tBest cost:  832.5780402103844\n",
      "IT:  75 \tBest cost:  832.1213840055917\n",
      "IT:  76 \tBest cost:  831.5937031235555\n",
      "IT:  77 \tBest cost:  831.4214656472391\n",
      "IT:  78 \tBest cost:  831.0238812300715\n",
      "IT:  79 \tBest cost:  830.3532545193668\n",
      "IT:  80 \tBest cost:  830.1712317682675\n",
      "IT:  81 \tBest cost:  829.8328192490243\n",
      "IT:  82 \tBest cost:  829.453879626253\n",
      "IT:  83 \tBest cost:  829.2821145958367\n",
      "IT:  84 \tBest cost:  828.9676136471425\n",
      "IT:  85 \tBest cost:  828.8670090847706\n",
      "IT:  86 \tBest cost:  828.5885867310881\n",
      "IT:  87 \tBest cost:  828.3563035524646\n",
      "IT:  88 \tBest cost:  828.2213294128163\n",
      "IT:  89 \tBest cost:  827.8182592861399\n",
      "IT:  90 \tBest cost:  827.8182592861399\n",
      "IT:  91 \tBest cost:  827.6052419673133\n",
      "IT:  92 \tBest cost:  827.5166624171011\n",
      "IT:  93 \tBest cost:  827.3464808509559\n",
      "IT:  94 \tBest cost:  827.1861125060601\n",
      "IT:  95 \tBest cost:  827.0260991284339\n",
      "IT:  96 \tBest cost:  826.980374795565\n",
      "IT:  97 \tBest cost:  826.8700959790165\n",
      "IT:  98 \tBest cost:  826.6714028415994\n",
      "IT:  99 \tBest cost:  826.59443576795\n",
      "\tNFVALS = 30000 F = 826.59443576795\n",
      "\tX = [ -74.91016125  -24.92960408  -68.48697046  -13.29697271   15.50879834\n",
      " -106.19455795   30.6282397     3.85740213   12.74407762  -19.3430735 ]\n"
     ]
    }
   ],
   "source": [
    "egna = EGNA(size_gen=300, max_iter=100, dead_iter=20, n_variables=10,\n",
    "            landscape_bounds=(-60, 60))\n",
    "\n",
    "eda_result = egna.minimize(benchmarking.cec14_4, True)"
   ]
  },
  {
   "cell_type": "markdown",
   "metadata": {
    "pycharm": {
     "name": "#%% md\n"
    }
   },
   "source": [
    "We plot the best cost found in each iteration of the algorithm."
   ]
  },
  {
   "cell_type": "code",
   "execution_count": 4,
   "metadata": {
    "pycharm": {
     "name": "#%%\n"
    }
   },
   "outputs": [
    {
     "data": {
      "image/png": "[encoded data removed]",
      "text/plain": [
       "<Figure size 1008x432 with 1 Axes>"
      ]
     },
     "metadata": {
      "needs_background": "light"
     },
     "output_type": "display_data"
    }
   ],
   "source": [
    "import matplotlib.pyplot as plt\n",
    "\n",
    "plt.figure(figsize = (14,6))\n",
    "\n",
    "plt.title('Best cost found in each iteration of EDA')\n",
    "plt.plot(list(range(len(eda_result.history))), eda_result.history, color='b')\n",
    "plt.xlabel('iteration')\n",
    "plt.ylabel('MAE')\n",
    "plt.show()"
   ]
  },
  {
   "cell_type": "code",
   "execution_count": null,
   "metadata": {
    "pycharm": {
     "name": "#%%\n"
    }
   },
   "outputs": [],
   "source": []
  }
 ],
 "metadata": {
  "kernelspec": {
   "display_name": "Python 3",
   "language": "python",
   "name": "python3"
  },
  "language_info": {
   "codemirror_mode": {
    "name": "ipython",
    "version": 3
   },
   "file_extension": ".py",
   "mimetype": "text/x-python",
   "name": "python",
   "nbconvert_exporter": "python",
   "pygments_lexer": "ipython3",
   "version": "3.7.6"
  }
 },
 "nbformat": 4,
 "nbformat_minor": 1
}
