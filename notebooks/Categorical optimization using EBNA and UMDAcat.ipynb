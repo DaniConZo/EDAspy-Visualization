{
 "cells": [
  {
   "cell_type": "markdown",
   "id": "0a3a0b5b",
   "metadata": {},
   "source": [
    "# Categorical optimization using EBNA and UMDAcat"
   ]
  },
  {
   "cell_type": "markdown",
   "id": "2a563146",
   "metadata": {
    "pycharm": {
     "name": "#%% md\n"
    }
   },
   "source": [
    "In this notebook we use the EBNA and UMDAcat approaches to optimize a toy categorical optimization function. Note that EBNA learns and samples a discrete BN in each iteration, while UMDAcat uses an independent probability distribution for each of the variables.\n",
    "\n",
    "Import the algorithm and the benchmarks from EDAspy"
   ]
  },
  {
   "cell_type": "code",
   "execution_count": 3,
   "id": "76654a05",
   "metadata": {},
   "outputs": [],
   "source": [
    "from EDAspy.optimization import EBNA, UMDAcat\n",
    "import numpy as np"
   ]
  },
  {
   "cell_type": "markdown",
   "id": "231dfa0b",
   "metadata": {},
   "source": [
    "Let's define a toy example categorical cost function, where each solution to be evaluated is an array of categorical objects."
   ]
  },
  {
   "cell_type": "code",
   "execution_count": 4,
   "id": "00123a0f",
   "metadata": {},
   "outputs": [],
   "source": [
    "def categorical_cost_function(solution: np.array):\n",
    "    \"\"\"\n",
    "    Example cost function that assigns costs to categorical choices.\n",
    "    The cost function returns higher values for less desirable choices.\n",
    "    \"\"\"\n",
    "    # Define a cost dictionary where each choice has an associated cost\n",
    "    cost_dict = {\n",
    "        'Color': {'Red': 0.1, 'Green': 0.5, 'Blue': 0.3},\n",
    "        'Shape': {'Circle': 0.3, 'Square': 0.2, 'Triangle': 0.4},\n",
    "        'Size': {'Small': 0.4, 'Medium': 0.2, 'Large': 0.1}\n",
    "    }\n",
    "    keys = list(cost_dict.keys())\n",
    "    choices = {keys[i]: solution[i] for i in range(len(solution))}\n",
    "\n",
    "    total_cost = 0.0\n",
    "    for variable, choice in choices.items():\n",
    "        total_cost += cost_dict[variable][choice]\n",
    "\n",
    "    return total_cost"
   ]
  },
  {
   "cell_type": "markdown",
   "id": "06e0c94d",
   "metadata": {},
   "source": [
    "We initialize both algorithms"
   ]
  },
  {
   "cell_type": "code",
   "execution_count": 5,
   "id": "aeff828f",
   "metadata": {},
   "outputs": [],
   "source": [
    "variables = ['Color', 'Shape', 'Size']\n",
    "possible_values = np.array([\n",
    "    ['Red', 'Green', 'Blue'],\n",
    "    ['Circle', 'Square', 'Triangle'],\n",
    "    ['Small', 'Medium', 'Large']], dtype=object\n",
    ")\n",
    "\n",
    "frequency = np.array([\n",
    "    [.33, .33, .33],\n",
    "    [.33, .33, .33],\n",
    "    [.33, .33, .33]], dtype=object\n",
    ")\n",
    "\n",
    "n_variables = len(variables)"
   ]
  },
  {
   "cell_type": "code",
   "execution_count": 7,
   "id": "ae9f556f",
   "metadata": {},
   "outputs": [],
   "source": [
    "ebna = EBNA(size_gen=10, max_iter=10, dead_iter=10, n_variables=n_variables, alpha=0.5,\n",
    "            possible_values=possible_values, frequency=frequency)\n",
    "\n",
    "umda_cat = UMDAcat(size_gen=10, max_iter=100, dead_iter=10, n_variables=n_variables, alpha=0.5,\n",
    "                   frequency=frequency, possible_values=possible_values)"
   ]
  },
  {
   "cell_type": "code",
   "execution_count": 8,
   "id": "6d8c67a7",
   "metadata": {},
   "outputs": [
    {
     "name": "stdout",
     "output_type": "stream",
     "text": [
      "IT:  0 \tBest cost:  0.4\n",
      "IT:  1 \tBest cost:  0.4\n",
      "IT:  2 \tBest cost:  0.4\n",
      "IT:  3 \tBest cost:  0.4\n",
      "IT:  4 \tBest cost:  0.4\n",
      "IT:  5 \tBest cost:  0.4\n",
      "IT:  6 \tBest cost:  0.4\n",
      "IT:  7 \tBest cost:  0.4\n",
      "IT:  8 \tBest cost:  0.4\n",
      "\tNFEVALS = 200 F = 0.4\n",
      "\tX = ['Red' 'Square' 'Large']\n"
     ]
    }
   ],
   "source": [
    "ebna_result = ebna.minimize(categorical_cost_function, True)"
   ]
  },
  {
   "cell_type": "code",
   "execution_count": 9,
   "id": "a6a39c40",
   "metadata": {},
   "outputs": [
    {
     "name": "stdout",
     "output_type": "stream",
     "text": [
      "IT:  0 \tBest cost:  0.4\n",
      "IT:  1 \tBest cost:  0.4\n",
      "IT:  2 \tBest cost:  0.4\n",
      "IT:  3 \tBest cost:  0.4\n",
      "IT:  4 \tBest cost:  0.4\n",
      "IT:  5 \tBest cost:  0.4\n",
      "IT:  6 \tBest cost:  0.4\n",
      "IT:  7 \tBest cost:  0.4\n",
      "IT:  8 \tBest cost:  0.4\n",
      "IT:  9 \tBest cost:  0.4\n",
      "\tNFEVALS = 1200 F = 0.4\n",
      "\tX = ['Red' 'Square' 'Large']\n"
     ]
    }
   ],
   "source": [
    "umda_cat_result = umda_cat.minimize(categorical_cost_function, True)"
   ]
  },
  {
   "cell_type": "markdown",
   "id": "d876edbb",
   "metadata": {},
   "source": [
    "Let's analyze the convergence plot for the executed algorithms."
   ]
  },
  {
   "cell_type": "code",
   "execution_count": 11,
   "id": "e5d3641c",
   "metadata": {},
   "outputs": [
    {
     "data": {
      "image/png": "[encoded data removed]",
      "text/plain": [
       "<Figure size 1008x432 with 1 Axes>"
      ]
     },
     "metadata": {
      "needs_background": "light"
     },
     "output_type": "display_data"
    }
   ],
   "source": [
    "import matplotlib.pyplot as plt\n",
    "\n",
    "plt.figure(figsize = (14,6))\n",
    "\n",
    "plt.title('Best cost found in each iteration of EDA')\n",
    "plt.plot(list(range(len(ebna_result.history))), ebna_result.history, color='b', label='EBNA')\n",
    "plt.plot(list(range(len(umda_cat_result.history))), umda_cat_result.history, color='r', label='UMDA_cat')\n",
    "plt.xlabel('iteration')\n",
    "plt.ylabel('MAE')\n",
    "plt.legend()\n",
    "plt.show()"
   ]
  },
  {
   "cell_type": "markdown",
   "id": "aefbda4f",
   "metadata": {},
   "source": [
    "It is also possible to analyze the fnal BN structure for the case of EBNA (UMDAcat does not uses graph based probabilistic models). EDAspy provides some tools to do this.\n",
    "\n",
    "In this case, the results shows not arcs between variables."
   ]
  },
  {
   "cell_type": "code",
   "execution_count": 12,
   "id": "edaa3b5c",
   "metadata": {},
   "outputs": [],
   "source": [
    "from EDAspy.optimization import plot_bn"
   ]
  },
  {
   "cell_type": "code",
   "execution_count": 15,
   "id": "bff73314",
   "metadata": {},
   "outputs": [
    {
     "data": {
      "image/png": "[encoded data removed]",
      "text/plain": [
       "<Figure size 432x288 with 1 Axes>"
      ]
     },
     "metadata": {},
     "output_type": "display_data"
    }
   ],
   "source": [
    "plot_bn(ebna.pm.print_structure(), var_names=variables)"
   ]
  },
  {
   "cell_type": "code",
   "execution_count": null,
   "id": "79970ec2",
   "metadata": {},
   "outputs": [],
   "source": []
  }
 ],
 "metadata": {
  "kernelspec": {
   "display_name": "Python 3",
   "language": "python",
   "name": "python3"
  },
  "language_info": {
   "codemirror_mode": {
    "name": "ipython",
    "version": 3
   },
   "file_extension": ".py",
   "mimetype": "text/x-python",
   "name": "python",
   "nbconvert_exporter": "python",
   "pygments_lexer": "ipython3",
   "version": "3.8.8"
  }
 },
 "nbformat": 4,
 "nbformat_minor": 5
}
