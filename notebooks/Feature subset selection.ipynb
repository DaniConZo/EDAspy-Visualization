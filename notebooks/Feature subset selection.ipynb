{
 "cells": [
  {
   "cell_type": "markdown",
   "metadata": {},
   "source": [
    "# Easy Feature Subset selection with Estimation of Distribution Algorithms"
   ]
  },
  {
   "cell_type": "markdown",
   "metadata": {},
   "source": [
    "It can be used as a simple example of EDA, or to use it for feature selection. The cost function to optimize is the metric of the model. An example is shown."
   ]
  },
  {
   "cell_type": "code",
   "execution_count": 1,
   "metadata": {},
   "outputs": [],
   "source": [
    "# loading essential libraries first\n",
    "import pandas as pd\n",
    "import statsmodels.api as sm\n",
    "from statsmodels.tsa.api import VAR\n",
    "import matplotlib.pyplot as plt\n",
    "from sklearn.metrics import mean_absolute_error\n",
    "\n",
    "# EDAspy libraries\n",
    "from EDAspy.optimization.univariate import EDA_discrete as EDAd"
   ]
  },
  {
   "cell_type": "markdown",
   "metadata": {},
   "source": [
    "We will use a small dataset to show an example of usage. We usually use a Feature Subset selector when a great amount of variables is available to use"
   ]
  },
  {
   "cell_type": "code",
   "execution_count": 4,
   "metadata": {},
   "outputs": [
    {
     "data": {
      "text/html": [
       "<div>\n",
       "<style scoped>\n",
       "    .dataframe tbody tr th:only-of-type {\n",
       "        vertical-align: middle;\n",
       "    }\n",
       "\n",
       "    .dataframe tbody tr th {\n",
       "        vertical-align: top;\n",
       "    }\n",
       "\n",
       "    .dataframe thead th {\n",
       "        text-align: right;\n",
       "    }\n",
       "</style>\n",
       "<table border=\"1\" class=\"dataframe\">\n",
       "  <thead>\n",
       "    <tr style=\"text-align: right;\">\n",
       "      <th></th>\n",
       "      <th>realgdp</th>\n",
       "      <th>realcons</th>\n",
       "      <th>realinv</th>\n",
       "      <th>realgovt</th>\n",
       "      <th>realdpi</th>\n",
       "      <th>cpi</th>\n",
       "      <th>m1</th>\n",
       "      <th>tbilrate</th>\n",
       "      <th>unemp</th>\n",
       "      <th>pop</th>\n",
       "      <th>infl</th>\n",
       "      <th>realint</th>\n",
       "    </tr>\n",
       "  </thead>\n",
       "  <tbody>\n",
       "    <tr>\n",
       "      <th>0</th>\n",
       "      <td>2710.349</td>\n",
       "      <td>1707.4</td>\n",
       "      <td>286.898</td>\n",
       "      <td>470.045</td>\n",
       "      <td>1886.9</td>\n",
       "      <td>28.98</td>\n",
       "      <td>139.7</td>\n",
       "      <td>2.82</td>\n",
       "      <td>5.8</td>\n",
       "      <td>177.146</td>\n",
       "      <td>0.00</td>\n",
       "      <td>0.00</td>\n",
       "    </tr>\n",
       "    <tr>\n",
       "      <th>1</th>\n",
       "      <td>2778.801</td>\n",
       "      <td>1733.7</td>\n",
       "      <td>310.859</td>\n",
       "      <td>481.301</td>\n",
       "      <td>1919.7</td>\n",
       "      <td>29.15</td>\n",
       "      <td>141.7</td>\n",
       "      <td>3.08</td>\n",
       "      <td>5.1</td>\n",
       "      <td>177.830</td>\n",
       "      <td>2.34</td>\n",
       "      <td>0.74</td>\n",
       "    </tr>\n",
       "    <tr>\n",
       "      <th>2</th>\n",
       "      <td>2775.488</td>\n",
       "      <td>1751.8</td>\n",
       "      <td>289.226</td>\n",
       "      <td>491.260</td>\n",
       "      <td>1916.4</td>\n",
       "      <td>29.35</td>\n",
       "      <td>140.5</td>\n",
       "      <td>3.82</td>\n",
       "      <td>5.3</td>\n",
       "      <td>178.657</td>\n",
       "      <td>2.74</td>\n",
       "      <td>1.09</td>\n",
       "    </tr>\n",
       "    <tr>\n",
       "      <th>3</th>\n",
       "      <td>2785.204</td>\n",
       "      <td>1753.7</td>\n",
       "      <td>299.356</td>\n",
       "      <td>484.052</td>\n",
       "      <td>1931.3</td>\n",
       "      <td>29.37</td>\n",
       "      <td>140.0</td>\n",
       "      <td>4.33</td>\n",
       "      <td>5.6</td>\n",
       "      <td>179.386</td>\n",
       "      <td>0.27</td>\n",
       "      <td>4.06</td>\n",
       "    </tr>\n",
       "    <tr>\n",
       "      <th>4</th>\n",
       "      <td>2847.699</td>\n",
       "      <td>1770.5</td>\n",
       "      <td>331.722</td>\n",
       "      <td>462.199</td>\n",
       "      <td>1955.5</td>\n",
       "      <td>29.54</td>\n",
       "      <td>139.6</td>\n",
       "      <td>3.50</td>\n",
       "      <td>5.2</td>\n",
       "      <td>180.007</td>\n",
       "      <td>2.31</td>\n",
       "      <td>1.19</td>\n",
       "    </tr>\n",
       "  </tbody>\n",
       "</table>\n",
       "</div>"
      ],
      "text/plain": [
       "    realgdp  realcons  realinv  realgovt  realdpi    cpi     m1  tbilrate  unemp      pop  infl  realint\n",
       "0  2710.349    1707.4  286.898   470.045   1886.9  28.98  139.7      2.82    5.8  177.146  0.00     0.00\n",
       "1  2778.801    1733.7  310.859   481.301   1919.7  29.15  141.7      3.08    5.1  177.830  2.34     0.74\n",
       "2  2775.488    1751.8  289.226   491.260   1916.4  29.35  140.5      3.82    5.3  178.657  2.74     1.09\n",
       "3  2785.204    1753.7  299.356   484.052   1931.3  29.37  140.0      4.33    5.6  179.386  0.27     4.06\n",
       "4  2847.699    1770.5  331.722   462.199   1955.5  29.54  139.6      3.50    5.2  180.007  2.31     1.19"
      ]
     },
     "execution_count": 4,
     "metadata": {},
     "output_type": "execute_result"
    }
   ],
   "source": [
    "# import some data\n",
    "mdata = sm.datasets.macrodata.load_pandas().data\n",
    "df = mdata.iloc[:, 2:]\n",
    "df.head()"
   ]
  },
  {
   "cell_type": "code",
   "execution_count": 6,
   "metadata": {},
   "outputs": [
    {
     "data": {
      "text/plain": [
       "['realgdp',\n",
       " 'm1',\n",
       " 'realdpi',\n",
       " 'realinv',\n",
       " 'unemp',\n",
       " 'tbilrate',\n",
       " 'realgovt',\n",
       " 'infl',\n",
       " 'cpi',\n",
       " 'realint',\n",
       " 'realcons']"
      ]
     },
     "execution_count": 6,
     "metadata": {},
     "output_type": "execute_result"
    }
   ],
   "source": [
    "variables = list(df.columns)\n",
    "variable_y = 'pop'  # pop is the variable we want to forecast\n",
    "variables = list(set(variables) - {variable_y})  # array of variables to select among transformations\n",
    "variables"
   ]
  },
  {
   "cell_type": "markdown",
   "metadata": {},
   "source": [
    "We define a cost function which receives a dictionary with variables names as keys of the dictionary and values 1/0 if they are used or not respectively.\n",
    "\n",
    "The functions returns the Mean Absolute Error found with the combination of variables selected."
   ]
  },
  {
   "cell_type": "code",
   "execution_count": 15,
   "metadata": {},
   "outputs": [],
   "source": [
    "def cost_function(variables_dict, nobs=20, maxlags=10, forecastings=10):\n",
    "    \"\"\"\n",
    "    variables_list: dictionary of variables without the variable_y with 1 if the variable is taken\n",
    "    nobs: how many observations for validation\n",
    "    maxlags: previous lags used to predict\n",
    "    forecasting: number of observations to predict\n",
    "    \n",
    "    return: MAE of the prediction with the real validation data\n",
    "    \"\"\"\n",
    "    \n",
    "    aux = list(variables_dict.keys())\n",
    "    variables_list = []\n",
    "    for i in aux:\n",
    "        if variables_dict[i] == 1:\n",
    "            variables_list.append(i)\n",
    "    \n",
    "    data = df[variables_list + [variable_y]]\n",
    "\n",
    "    df_train, df_test = data[0:-nobs], data[-nobs:]\n",
    "\n",
    "    model = VAR(df_train)\n",
    "    results = model.fit(maxlags=maxlags, ic='aic')\n",
    "\n",
    "    lag_order = results.k_ar\n",
    "    array = results.forecast(df_train.values[-lag_order:], forecastings)\n",
    "\n",
    "    variables_ = list(data.columns)\n",
    "    position = variables_.index(variable_y)\n",
    "\n",
    "    validation = [array[i][position] for i in range(len(array))]\n",
    "    mae = mean_absolute_error(validation, df_test['pop'][-forecastings:])\n",
    "    \n",
    "    return mae"
   ]
  },
  {
   "cell_type": "markdown",
   "metadata": {},
   "source": [
    "We calculate the MAE found using all the variables.\n",
    "\n",
    "This is an easy example so the difference between the MAE found using all the variables and the MAE found after optimizing the model, will be very small. But this is appreciated with more difference when large datasets are used"
   ]
  },
  {
   "cell_type": "code",
   "execution_count": 17,
   "metadata": {},
   "outputs": [
    {
     "name": "stdout",
     "output_type": "stream",
     "text": [
      "MAE without using EDA: 7.061634567114498\n"
     ]
    }
   ],
   "source": [
    "# build the dictionary with all 1s\n",
    "dic = {}\n",
    "for var in variables:\n",
    "    dic.update({var: 1})\n",
    "\n",
    "mae_pre_eda = cost_function(dic)\n",
    "print('MAE without using EDA:', mae_pre_eda)"
   ]
  },
  {
   "cell_type": "markdown",
   "metadata": {},
   "source": [
    "Initial vector of statistics. We usually start with all the variables with 50% of probability to be chosen. If desired, a variable can be deleted from the beggining just assigning a 0 probability to be chosen in the pandas dataframe"
   ]
  },
  {
   "cell_type": "code",
   "execution_count": 36,
   "metadata": {},
   "outputs": [],
   "source": [
    "vector = pd.DataFrame(columns=variables)\n",
    "vector.loc[0] = 0.5"
   ]
  },
  {
   "cell_type": "code",
   "execution_count": 37,
   "metadata": {},
   "outputs": [],
   "source": [
    "history = []"
   ]
  },
  {
   "cell_type": "markdown",
   "metadata": {},
   "source": [
    "Execute the algorithm. We must define:\n",
    "1. Maximum number of iterations\n",
    "2. Number of iterations after which, if the cost is not improved, the algorithm finishes\n",
    "3. Number of individuals in each generation\n",
    "4. Percetage (over 1) of population to be selected to mutate\n",
    "5. vector of statistics\n",
    "6. The cost function to optimize\n",
    "7. Aim: 'minimize' or 'maximize'\n",
    "\n",
    "The algorithm returns the best cost, a pandas dataframe with the solution found, and the history of costs"
   ]
  },
  {
   "cell_type": "code",
   "execution_count": 38,
   "metadata": {
    "scrolled": false
   },
   "outputs": [
    {
     "name": "stdout",
     "output_type": "stream",
     "text": [
      "IT  0 best cost  6.582476132682814\n",
      "['m1', 'realdpi', 'realinv', 'tbilrate', 'realgovt']\n",
      "IT  1 best cost  6.620166924126318\n",
      "['realgdp', 'm1', 'realdpi', 'unemp', 'realgovt', 'infl']\n",
      "IT  2 best cost  6.402230084599393\n",
      "['m1', 'realdpi', 'unemp', 'tbilrate', 'realgovt', 'infl', 'realint', 'realcons']\n",
      "IT  3 best cost  6.402230084599393\n",
      "['m1', 'realdpi', 'unemp', 'tbilrate', 'realgovt', 'infl', 'realint', 'realcons']\n",
      "IT  4 best cost  6.464232129737877\n",
      "['m1', 'realdpi', 'realinv', 'tbilrate', 'realgovt', 'infl', 'realint', 'realcons']\n",
      "IT  5 best cost  6.452869182055804\n",
      "['m1', 'realdpi', 'unemp', 'tbilrate', 'infl', 'realint', 'realcons']\n",
      "IT  6 best cost  6.458211128939541\n",
      "['realgdp', 'm1', 'realdpi', 'realinv', 'unemp', 'tbilrate', 'infl', 'realint', 'realcons']\n",
      "IT  7 best cost  6.458211128939541\n",
      "['realgdp', 'm1', 'realdpi', 'realinv', 'unemp', 'tbilrate', 'infl', 'realint', 'realcons']\n",
      "IT  8 best cost  6.458211128939541\n",
      "['realgdp', 'm1', 'realdpi', 'realinv', 'unemp', 'tbilrate', 'infl', 'realint', 'realcons']\n",
      "IT  9 best cost  6.458211128939541\n",
      "['realgdp', 'm1', 'realdpi', 'realinv', 'unemp', 'tbilrate', 'infl', 'realint', 'realcons']\n",
      "IT  10 best cost  6.458211128939541\n",
      "['realgdp', 'm1', 'realdpi', 'realinv', 'unemp', 'tbilrate', 'infl', 'realint', 'realcons']\n",
      "IT  11 best cost  6.458211128939541\n",
      "['realgdp', 'm1', 'realdpi', 'realinv', 'unemp', 'tbilrate', 'infl', 'realint', 'realcons']\n"
     ]
    }
   ],
   "source": [
    "EDA = EDAd(MAX_IT=100, DEAD_ITER=10, SIZE_GEN=30, ALPHA=0.5, vector=vector, \n",
    "           cost_function=cost_function, aim='minimize')\n",
    "\n",
    "bestcost, solution, history = EDA.run(output=True)"
   ]
  },
  {
   "cell_type": "code",
   "execution_count": 39,
   "metadata": {},
   "outputs": [
    {
     "name": "stdout",
     "output_type": "stream",
     "text": [
      "Best cost found: 6.402230084599393\n",
      "['m1', 'realdpi', 'unemp', 'tbilrate', 'realgovt', 'infl', 'realint', 'realcons']\n"
     ]
    }
   ],
   "source": [
    "print('Best cost found:', bestcost)\n",
    "print(solution)"
   ]
  },
  {
   "cell_type": "markdown",
   "metadata": {},
   "source": [
    "# Some plots"
   ]
  },
  {
   "cell_type": "code",
   "execution_count": 47,
   "metadata": {},
   "outputs": [
    {
     "name": "stdout",
     "output_type": "stream",
     "text": [
      "Solution: ['m1', 'realdpi', 'unemp', 'tbilrate', 'realgovt', 'infl', 'realint', 'realcons'] \n",
      "MAE post EDA: 6.40 \n",
      "MAE pre EDA: 7.06\n"
     ]
    },
    {
     "data": {
      "image/png": "[encoded data removed]",
      "text/plain": [
       "<Figure size 1008x432 with 2 Axes>"
      ]
     },
     "metadata": {
      "needs_background": "light"
     },
     "output_type": "display_data"
    }
   ],
   "source": [
    "# some plots\n",
    "\n",
    "relative_plot = []\n",
    "mx = 999999999\n",
    "for i in range(len(history)):\n",
    "    if history[i] < mx:\n",
    "        mx = history[i]\n",
    "        relative_plot.append(mx)\n",
    "    else:\n",
    "        relative_plot.append(mx)\n",
    "\n",
    "print('Solution:', solution, '\\nMAE post EDA: %.2f' % bestcost, '\\nMAE pre EDA: %.2f' % mae_pre_eda)\n",
    "\n",
    "plt.figure(figsize = (14,6))\n",
    "\n",
    "ax = plt.subplot(121)\n",
    "ax.plot(list(range(len(history))), history)\n",
    "ax.title.set_text('Local cost found')\n",
    "ax.set_xlabel('iteration')\n",
    "ax.set_ylabel('MAE')\n",
    "\n",
    "ax = plt.subplot(122)\n",
    "ax.plot(list(range(len(relative_plot))), relative_plot)\n",
    "ax.title.set_text('Best global cost found')\n",
    "ax.set_xlabel('iteration')\n",
    "ax.set_ylabel('MAE')\n",
    "\n",
    "plt.show()"
   ]
  }
 ],
 "metadata": {
  "kernelspec": {
   "display_name": "Python 3",
   "language": "python",
   "name": "python3"
  },
  "language_info": {
   "codemirror_mode": {
    "name": "ipython",
    "version": 3
   },
   "file_extension": ".py",
   "mimetype": "text/x-python",
   "name": "python",
   "nbconvert_exporter": "python",
   "pygments_lexer": "ipython3",
   "version": "3.7.1"
  }
 },
 "nbformat": 4,
 "nbformat_minor": 4
}
