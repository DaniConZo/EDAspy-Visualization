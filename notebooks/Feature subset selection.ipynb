{
 "cells": [
  {
   "cell_type": "markdown",
   "metadata": {},
   "source": [
    "# Toy example for Feature Subset selection with Estimation of Distribution Algorithms"
   ]
  },
  {
   "cell_type": "markdown",
   "metadata": {},
   "source": [
    "In this notebooks we show a toy example for feature selection using the binary implementation of EDA in EDAspy. For this, we try to select the optimal subset of variables for a forecasting model. The metric that we use for evaluation is the Mean Absolute Error (MAE) of the subset in the forecasting model."
   ]
  },
  {
   "cell_type": "code",
   "execution_count": 1,
   "metadata": {},
   "outputs": [],
   "source": [
    "# loading essential libraries first\n",
    "import statsmodels.api as sm\n",
    "from statsmodels.tsa.api import VAR\n",
    "import matplotlib.pyplot as plt\n",
    "from sklearn.metrics import mean_absolute_error\n",
    "\n",
    "# EDAspy libraries\n",
    "from EDAspy.optimization import UMDAd"
   ]
  },
  {
   "cell_type": "markdown",
   "metadata": {},
   "source": [
    "We will use a small dataset to show an example of usage. We usually use a Feature Subset selector when a great amount of variables is available to use"
   ]
  },
  {
   "cell_type": "code",
   "execution_count": 2,
   "metadata": {},
   "outputs": [
    {
     "data": {
      "text/html": [
       "<div>\n",
       "<style scoped>\n",
       "    .dataframe tbody tr th:only-of-type {\n",
       "        vertical-align: middle;\n",
       "    }\n",
       "\n",
       "    .dataframe tbody tr th {\n",
       "        vertical-align: top;\n",
       "    }\n",
       "\n",
       "    .dataframe thead th {\n",
       "        text-align: right;\n",
       "    }\n",
       "</style>\n",
       "<table border=\"1\" class=\"dataframe\">\n",
       "  <thead>\n",
       "    <tr style=\"text-align: right;\">\n",
       "      <th></th>\n",
       "      <th>realgdp</th>\n",
       "      <th>realcons</th>\n",
       "      <th>realinv</th>\n",
       "      <th>realgovt</th>\n",
       "      <th>realdpi</th>\n",
       "      <th>cpi</th>\n",
       "      <th>m1</th>\n",
       "      <th>tbilrate</th>\n",
       "      <th>unemp</th>\n",
       "      <th>pop</th>\n",
       "      <th>infl</th>\n",
       "      <th>realint</th>\n",
       "    </tr>\n",
       "  </thead>\n",
       "  <tbody>\n",
       "    <tr>\n",
       "      <th>0</th>\n",
       "      <td>2710.349</td>\n",
       "      <td>1707.4</td>\n",
       "      <td>286.898</td>\n",
       "      <td>470.045</td>\n",
       "      <td>1886.9</td>\n",
       "      <td>28.98</td>\n",
       "      <td>139.7</td>\n",
       "      <td>2.82</td>\n",
       "      <td>5.8</td>\n",
       "      <td>177.146</td>\n",
       "      <td>0.00</td>\n",
       "      <td>0.00</td>\n",
       "    </tr>\n",
       "    <tr>\n",
       "      <th>1</th>\n",
       "      <td>2778.801</td>\n",
       "      <td>1733.7</td>\n",
       "      <td>310.859</td>\n",
       "      <td>481.301</td>\n",
       "      <td>1919.7</td>\n",
       "      <td>29.15</td>\n",
       "      <td>141.7</td>\n",
       "      <td>3.08</td>\n",
       "      <td>5.1</td>\n",
       "      <td>177.830</td>\n",
       "      <td>2.34</td>\n",
       "      <td>0.74</td>\n",
       "    </tr>\n",
       "    <tr>\n",
       "      <th>2</th>\n",
       "      <td>2775.488</td>\n",
       "      <td>1751.8</td>\n",
       "      <td>289.226</td>\n",
       "      <td>491.260</td>\n",
       "      <td>1916.4</td>\n",
       "      <td>29.35</td>\n",
       "      <td>140.5</td>\n",
       "      <td>3.82</td>\n",
       "      <td>5.3</td>\n",
       "      <td>178.657</td>\n",
       "      <td>2.74</td>\n",
       "      <td>1.09</td>\n",
       "    </tr>\n",
       "    <tr>\n",
       "      <th>3</th>\n",
       "      <td>2785.204</td>\n",
       "      <td>1753.7</td>\n",
       "      <td>299.356</td>\n",
       "      <td>484.052</td>\n",
       "      <td>1931.3</td>\n",
       "      <td>29.37</td>\n",
       "      <td>140.0</td>\n",
       "      <td>4.33</td>\n",
       "      <td>5.6</td>\n",
       "      <td>179.386</td>\n",
       "      <td>0.27</td>\n",
       "      <td>4.06</td>\n",
       "    </tr>\n",
       "    <tr>\n",
       "      <th>4</th>\n",
       "      <td>2847.699</td>\n",
       "      <td>1770.5</td>\n",
       "      <td>331.722</td>\n",
       "      <td>462.199</td>\n",
       "      <td>1955.5</td>\n",
       "      <td>29.54</td>\n",
       "      <td>139.6</td>\n",
       "      <td>3.50</td>\n",
       "      <td>5.2</td>\n",
       "      <td>180.007</td>\n",
       "      <td>2.31</td>\n",
       "      <td>1.19</td>\n",
       "    </tr>\n",
       "  </tbody>\n",
       "</table>\n",
       "</div>"
      ],
      "text/plain": [
       "    realgdp  realcons  realinv  realgovt  realdpi    cpi     m1  tbilrate  \\\n",
       "0  2710.349    1707.4  286.898   470.045   1886.9  28.98  139.7      2.82   \n",
       "1  2778.801    1733.7  310.859   481.301   1919.7  29.15  141.7      3.08   \n",
       "2  2775.488    1751.8  289.226   491.260   1916.4  29.35  140.5      3.82   \n",
       "3  2785.204    1753.7  299.356   484.052   1931.3  29.37  140.0      4.33   \n",
       "4  2847.699    1770.5  331.722   462.199   1955.5  29.54  139.6      3.50   \n",
       "\n",
       "   unemp      pop  infl  realint  \n",
       "0    5.8  177.146  0.00     0.00  \n",
       "1    5.1  177.830  2.34     0.74  \n",
       "2    5.3  178.657  2.74     1.09  \n",
       "3    5.6  179.386  0.27     4.06  \n",
       "4    5.2  180.007  2.31     1.19  "
      ]
     },
     "execution_count": 2,
     "metadata": {},
     "output_type": "execute_result"
    }
   ],
   "source": [
    "# import some data\n",
    "mdata = sm.datasets.macrodata.load_pandas().data\n",
    "df = mdata.iloc[:, 2:]\n",
    "df.head()"
   ]
  },
  {
   "cell_type": "code",
   "execution_count": 4,
   "metadata": {},
   "outputs": [
    {
     "data": {
      "text/plain": [
       "['realinv',\n",
       " 'realgdp',\n",
       " 'm1',\n",
       " 'unemp',\n",
       " 'realdpi',\n",
       " 'realint',\n",
       " 'realcons',\n",
       " 'tbilrate',\n",
       " 'realgovt',\n",
       " 'cpi',\n",
       " 'infl']"
      ]
     },
     "execution_count": 4,
     "metadata": {},
     "output_type": "execute_result"
    }
   ],
   "source": [
    "variables = list(df.columns)\n",
    "variable_y = 'pop'  # pop is the variable we want to forecast\n",
    "variables = list(set(variables) - {variable_y})  # array of variables to select among transformations\n",
    "variables"
   ]
  },
  {
   "cell_type": "markdown",
   "metadata": {},
   "source": [
    "We define a cost function which receives a dictionary with variables names as keys of the dictionary and values 1/0 if they are used or not respectively.\n",
    "\n",
    "The functions returns the Mean Absolute Error found with the combination of variables selected."
   ]
  },
  {
   "cell_type": "code",
   "execution_count": 15,
   "metadata": {},
   "outputs": [],
   "source": [
    "def cost_function(variables_list, nobs=20, maxlags=10, forecastings=10):\n",
    "    \"\"\"\n",
    "    variables_list: array of size the number of variables, where a 1 is to choose the variable, and 0 to reject it.\n",
    "    nobs: how many observations for validation\n",
    "    maxlags: previous lags used to predict\n",
    "    forecasting: number of observations to predict\n",
    "    \n",
    "    return: MAE of the prediction with the real validation data\n",
    "    \"\"\"\n",
    "\n",
    "    variables_chosen = []\n",
    "    for i, j in zip(variables, variables_list):\n",
    "        if j == 1:\n",
    "            variables_chosen.append(i)\n",
    "\n",
    "    data = df[variables_chosen + [variable_y]]\n",
    "\n",
    "    df_train, df_test = data[0:-nobs], data[-nobs:]\n",
    "\n",
    "    model = VAR(df_train)\n",
    "    results = model.fit(maxlags=maxlags, ic='aic')\n",
    "\n",
    "    lag_order = results.k_ar\n",
    "    array = results.forecast(df_train.values[-lag_order:], forecastings)\n",
    "\n",
    "    variables_ = list(data.columns)\n",
    "    position = variables_.index(variable_y)\n",
    "\n",
    "    validation = [array[i][position] for i in range(len(array))]\n",
    "    mae = mean_absolute_error(validation, df_test['pop'][-forecastings:])\n",
    "    \n",
    "    return mae"
   ]
  },
  {
   "cell_type": "markdown",
   "metadata": {},
   "source": [
    "We calculate the MAE found using all the variables.\n",
    "\n",
    "This is an easy example so the difference between the MAE found using all the variables and the MAE found after optimizing the model, will be very small. But this is appreciated with more difference when large datasets are used"
   ]
  },
  {
   "cell_type": "code",
   "execution_count": 16,
   "metadata": {},
   "outputs": [
    {
     "name": "stdout",
     "output_type": "stream",
     "text": [
      "MAE without using EDA: 7.06163456694552\n"
     ]
    }
   ],
   "source": [
    "# build the dictionary with all 1s\n",
    "selection = [1]*len(variables)\n",
    "\n",
    "mae_pre_eda = cost_function(selection)\n",
    "print('MAE without using EDA:', mae_pre_eda)"
   ]
  },
  {
   "cell_type": "markdown",
   "metadata": {
    "pycharm": {
     "name": "#%% md\n"
    }
   },
   "source": [
    "We initialize the EDA weith the following parameters, and run the optimizer over the cost function defined above. The vector of statistics is initialized to None so the EDA implementation will initialize it. If you desire to initialize it in a way to favour some of the variables you can create a numpy array with all the variables the same probability to be chosen or not (0.5), and the one you want to favour to nearly 1. This will make the EDA to choose the variable nearly always."
   ]
  },
  {
   "cell_type": "code",
   "execution_count": 17,
   "metadata": {
    "scrolled": false
   },
   "outputs": [
    {
     "name": "stdout",
     "output_type": "stream",
     "text": [
      "IT:  0 \tBest cost:  6.613299985219163\n",
      "IT:  1 \tBest cost:  6.458211125755793\n",
      "IT:  2 \tBest cost:  6.356182733658363\n",
      "IT:  3 \tBest cost:  6.356182733658363\n",
      "IT:  4 \tBest cost:  6.356182733658363\n",
      "IT:  5 \tBest cost:  6.356182733658363\n",
      "IT:  6 \tBest cost:  6.356182733658363\n",
      "IT:  7 \tBest cost:  6.356182733658363\n",
      "IT:  8 \tBest cost:  6.356182733658363\n",
      "IT:  9 \tBest cost:  6.356182733658363\n",
      "IT:  10 \tBest cost:  6.356182733658363\n",
      "IT:  11 \tBest cost:  6.356182733658363\n",
      "\tNFVALS = 390 F = 6.356182733658363\n",
      "\tX = [0 1 1 1 1 1 1 1 1 1 1]\n"
     ]
    }
   ],
   "source": [
    "eda = UMDAd(size_gen=30, max_iter=100, dead_iter=10, n_variables=len(variables), alpha=0.5, vector=None,\n",
    "            lower_bound=0.2, upper_bound=0.9, elite_factor=0.2, disp=True)\n",
    "\n",
    "eda_result = eda.minimize(cost_function=cost_function, output_runtime=True)"
   ]
  },
  {
   "cell_type": "markdown",
   "metadata": {
    "pycharm": {
     "name": "#%% md\n"
    }
   },
   "source": [
    "Note that the algorithm is minimzing correctly, but doe to the fact that it is a toy example, there is not a high variance from the beginning to the end."
   ]
  },
  {
   "cell_type": "code",
   "execution_count": 28,
   "metadata": {},
   "outputs": [
    {
     "name": "stdout",
     "output_type": "stream",
     "text": [
      "Best cost found: 6.356182733658363\n",
      "Variables chosen\n",
      "['realgdp', 'm1', 'unemp', 'realdpi', 'realint', 'realcons', 'tbilrate', 'realgovt', 'cpi', 'infl']\n"
     ]
    }
   ],
   "source": [
    "print('Best cost found:', eda_result.best_cost)\n",
    "print('Variables chosen')\n",
    "variables_chosen = []\n",
    "for i, j in zip(variables, eda_result.best_ind):\n",
    "        if j == 1:\n",
    "            variables_chosen.append(i)\n",
    "print(variables_chosen)"
   ]
  },
  {
   "cell_type": "markdown",
   "metadata": {
    "pycharm": {
     "name": "#%% md\n"
    }
   },
   "source": [
    "# Some plots"
   ]
  },
  {
   "cell_type": "markdown",
   "metadata": {
    "pycharm": {
     "name": "#%% md\n"
    }
   },
   "source": [
    "We plot the best cost in each iteration to show how the MAE of the feature selection is reduced compared to using all the variables."
   ]
  },
  {
   "cell_type": "code",
   "execution_count": 26,
   "metadata": {
    "pycharm": {
     "name": "#%%\n"
    }
   },
   "outputs": [
    {
     "data": {
      "image/png": "[encoded data removed]",
      "text/plain": [
       "<Figure size 1008x432 with 1 Axes>"
      ]
     },
     "metadata": {
      "needs_background": "light"
     },
     "output_type": "display_data"
    }
   ],
   "source": [
    "plt.figure(figsize = (14,6))\n",
    "\n",
    "plt.title('Best cost found in each iteration of EDA')\n",
    "plt.plot(list(range(len(eda_result.history))), eda_result.history, color='b')\n",
    "plt.xlabel('iteration')\n",
    "plt.ylabel('MAE')\n",
    "plt.show()"
   ]
  },
  {
   "cell_type": "code",
   "execution_count": null,
   "metadata": {
    "pycharm": {
     "name": "#%%\n"
    }
   },
   "outputs": [],
   "source": []
  }
 ],
 "metadata": {
  "kernelspec": {
   "display_name": "Python 3",
   "language": "python",
   "name": "python3"
  },
  "language_info": {
   "codemirror_mode": {
    "name": "ipython",
    "version": 3
   },
   "file_extension": ".py",
   "mimetype": "text/x-python",
   "name": "python",
   "nbconvert_exporter": "python",
   "pygments_lexer": "ipython3",
   "version": "3.8.8"
  }
 },
 "nbformat": 4,
 "nbformat_minor": 4
}
