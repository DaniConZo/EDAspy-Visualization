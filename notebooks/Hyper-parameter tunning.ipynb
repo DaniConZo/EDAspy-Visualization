{
 "cells": [
  {
   "cell_type": "markdown",
   "metadata": {},
   "source": [
    "# Hyper parameter tunning using Estimation of Distribution Algorithms"
   ]
  },
  {
   "cell_type": "markdown",
   "metadata": {},
   "source": [
    "This EDA is used when some continuous parameters must be optimized."
   ]
  },
  {
   "cell_type": "code",
   "execution_count": 1,
   "metadata": {},
   "outputs": [],
   "source": [
    "from EDAspy.optimization.univariate import EDA_continuous as EDAc\n",
    "import pandas as pd\n",
    "import numpy as np\n",
    "import matplotlib.pyplot as plt"
   ]
  },
  {
   "cell_type": "markdown",
   "metadata": {},
   "source": [
    "We must define a cost function to optimize. The cost function can be truncated.\n",
    "\n",
    "For example, in the next defined, the values must be higher than 0. This can also be defined in the vector of statistics define below"
   ]
  },
  {
   "cell_type": "code",
   "execution_count": 2,
   "metadata": {},
   "outputs": [],
   "source": [
    "# define a cost function\n",
    "wheights = [20,10,-4]\n",
    "\n",
    "def cost_function(dictionary):\n",
    "    \"\"\"\n",
    "    dictionary: python dictionary object with name of parameter as key, and value of the parameter as value\n",
    "    return: total cost associated to the combination of parameters\n",
    "    \"\"\"\n",
    "    function = wheights[0]*dictionary['param1']**2 + wheights[1]*(np.pi/dictionary['param2']) - 2 - wheights[2]*dictionary['param3']\n",
    "    if function < 0:\n",
    "        return 9999999\n",
    "    return function"
   ]
  },
  {
   "cell_type": "markdown",
   "metadata": {},
   "source": [
    "The vector of statistics define the starting values to start searching. We can define an initial mean and desviation. We can also define a maximum an minimum value for the hyper parameters. This can be defined in the cost function or in the vector of statistics.\n",
    "\n",
    "If not desired to define the minimum and maximum, just delete the rows in pandas dataframe"
   ]
  },
  {
   "cell_type": "code",
   "execution_count": 3,
   "metadata": {},
   "outputs": [
    {
     "data": {
      "text/html": [
       "<div>\n",
       "<style scoped>\n",
       "    .dataframe tbody tr th:only-of-type {\n",
       "        vertical-align: middle;\n",
       "    }\n",
       "\n",
       "    .dataframe tbody tr th {\n",
       "        vertical-align: top;\n",
       "    }\n",
       "\n",
       "    .dataframe thead th {\n",
       "        text-align: right;\n",
       "    }\n",
       "</style>\n",
       "<table border=\"1\" class=\"dataframe\">\n",
       "  <thead>\n",
       "    <tr style=\"text-align: right;\">\n",
       "      <th></th>\n",
       "      <th>param1</th>\n",
       "      <th>param2</th>\n",
       "      <th>param3</th>\n",
       "    </tr>\n",
       "    <tr>\n",
       "      <th>data</th>\n",
       "      <th></th>\n",
       "      <th></th>\n",
       "      <th></th>\n",
       "    </tr>\n",
       "  </thead>\n",
       "  <tbody>\n",
       "    <tr>\n",
       "      <th>mu</th>\n",
       "      <td>5</td>\n",
       "      <td>8</td>\n",
       "      <td>1</td>\n",
       "    </tr>\n",
       "    <tr>\n",
       "      <th>std</th>\n",
       "      <td>20</td>\n",
       "      <td>20</td>\n",
       "      <td>20</td>\n",
       "    </tr>\n",
       "    <tr>\n",
       "      <th>min</th>\n",
       "      <td>0</td>\n",
       "      <td>0</td>\n",
       "      <td>0</td>\n",
       "    </tr>\n",
       "    <tr>\n",
       "      <th>max</th>\n",
       "      <td>100</td>\n",
       "      <td>100</td>\n",
       "      <td>100</td>\n",
       "    </tr>\n",
       "  </tbody>\n",
       "</table>\n",
       "</div>"
      ],
      "text/plain": [
       "     param1 param2 param3\n",
       "data                     \n",
       "mu        5      8      1\n",
       "std      20     20     20\n",
       "min       0      0      0\n",
       "max     100    100    100"
      ]
     },
     "execution_count": 3,
     "metadata": {},
     "output_type": "execute_result"
    }
   ],
   "source": [
    "# initial vector of statistics\n",
    "vector = pd.DataFrame(columns=['param1', 'param2', 'param3'])\n",
    "vector['data'] = ['mu', 'std', 'min', 'max']\n",
    "vector = vector.set_index('data')\n",
    "vector.loc['mu'] = [5, 8, 1]\n",
    "vector.loc['std'] = 20\n",
    "\n",
    "vector.loc['min'] = 0  # optional\n",
    "vector.loc['max'] = 100  # optional\n",
    "vector"
   ]
  },
  {
   "cell_type": "markdown",
   "metadata": {},
   "source": [
    "Execute the algorithm. We must define:\n",
    "1. Number of individuals in each generation\n",
    "2. Maximum number of iterations\n",
    "3. Number of iterations after which, if the cost is not improved, the algorithm finishes\n",
    "4. Percentage (over 1) of the population to be selected to mutate\n",
    "5. vector of statistics\n",
    "6. Aim: 'minimize' or 'maximize'\n",
    "7. The cost function to optimize\n",
    "\n",
    "The algorithm returns the best cost, a pandas dataframe with the solution found, and the history of costs"
   ]
  },
  {
   "cell_type": "code",
   "execution_count": 7,
   "metadata": {
    "scrolled": false
   },
   "outputs": [
    {
     "name": "stdout",
     "output_type": "stream",
     "text": [
      "IT  0 best cost  6.5514902308251735\n",
      "IT  1 best cost  2.7751156546649898\n",
      "IT  2 best cost  5.211704315648551\n",
      "IT  3 best cost  2.1473882152934958\n",
      "IT  4 best cost  2.9154773764244224\n",
      "IT  5 best cost  3.3248207075426968\n",
      "IT  6 best cost  2.2037306095671916\n",
      "IT  7 best cost  3.9618949527786755\n",
      "IT  8 best cost  1.9508915392440174\n",
      "IT  9 best cost  2.235997023671448\n",
      "IT  10 best cost  3.342263741120374\n",
      "IT  11 best cost  2.3593262814812963\n",
      "IT  12 best cost  2.752510278273155\n",
      "IT  13 best cost  2.828326791107806\n",
      "IT  14 best cost  4.067061314368048\n",
      "IT  15 best cost  1.7893173595437855\n",
      "IT  16 best cost  3.6011884611843548\n",
      "IT  17 best cost  4.879689027299914\n",
      "IT  18 best cost  3.976479584727825\n",
      "IT  19 best cost  7.716803871602065\n",
      "IT  20 best cost  5.08283518794845\n",
      "IT  21 best cost  6.403971072493544\n",
      "IT  22 best cost  5.663993789414669\n",
      "IT  23 best cost  2.811296552244172\n",
      "IT  24 best cost  6.1175795449734816\n",
      "IT  25 best cost  9.952117869618347\n",
      "IT  26 best cost  9.70353673164842\n",
      "IT  27 best cost  12.29538451300719\n",
      "IT  28 best cost  16.334786815103694\n",
      "IT  29 best cost  8.273136575781418\n",
      "IT  30 best cost  12.700447701362084\n",
      "IT  31 best cost  14.610086207730332\n",
      "IT  32 best cost  11.52333652965806\n",
      "IT  33 best cost  16.075001139374418\n",
      "IT  34 best cost  11.207687596068904\n"
     ]
    }
   ],
   "source": [
    "EDA = EDAc(SIZE_GEN=40, MAX_ITER=200, DEAD_ITER=20, ALPHA=0.7, vector=vector, \n",
    "            aim='minimize', cost_function=cost_function)\n",
    "bestcost, params, history = EDA.run()"
   ]
  },
  {
   "cell_type": "code",
   "execution_count": 8,
   "metadata": {},
   "outputs": [
    {
     "name": "stdout",
     "output_type": "stream",
     "text": [
      "Best cost found: 1.7893173595437855\n",
      "Best solution:\n",
      "     param1    param2    param3      cost\n",
      "0  0.01271  9.115591  0.084923  1.789317\n"
     ]
    }
   ],
   "source": [
    "print('Best cost found:', bestcost)\n",
    "print('Best solution:\\n', params)"
   ]
  },
  {
   "cell_type": "markdown",
   "metadata": {},
   "source": [
    "# Some plots"
   ]
  },
  {
   "cell_type": "code",
   "execution_count": 9,
   "metadata": {},
   "outputs": [
    {
     "data": {
      "image/png": "[encoded data removed]",
      "text/plain": [
       "<Figure size 1008x432 with 2 Axes>"
      ]
     },
     "metadata": {
      "needs_background": "light"
     },
     "output_type": "display_data"
    }
   ],
   "source": [
    "relative_plot = []\n",
    "mx = 999999999\n",
    "for i in range(len(history)):\n",
    "    if history[i] < mx:\n",
    "        mx = history[i]\n",
    "        relative_plot.append(mx)\n",
    "    else:\n",
    "        relative_plot.append(mx)\n",
    "\n",
    "plt.figure(figsize = (14,6))\n",
    "\n",
    "ax = plt.subplot(121)\n",
    "ax.plot(list(range(len(history))), history)\n",
    "ax.title.set_text('Local cost found')\n",
    "ax.set_xlabel('iteration')\n",
    "ax.set_ylabel('MAE')\n",
    "\n",
    "ax = plt.subplot(122)\n",
    "ax.plot(list(range(len(relative_plot))), relative_plot)\n",
    "ax.title.set_text('Best global cost found')\n",
    "ax.set_xlabel('iteration')\n",
    "ax.set_ylabel('MAE')\n",
    "\n",
    "plt.show()"
   ]
  }
 ],
 "metadata": {
  "kernelspec": {
   "display_name": "Python 3",
   "language": "python",
   "name": "python3"
  },
  "language_info": {
   "codemirror_mode": {
    "name": "ipython",
    "version": 3
   },
   "file_extension": ".py",
   "mimetype": "text/x-python",
   "name": "python",
   "nbconvert_exporter": "python",
   "pygments_lexer": "ipython3",
   "version": "3.8.5"
  }
 },
 "nbformat": 4,
 "nbformat_minor": 4
}
