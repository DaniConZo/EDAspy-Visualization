{
 "cells": [
  {
   "cell_type": "markdown",
   "metadata": {},
   "source": [
    "# Hyper parameter tunning using Estimation of Distribution Algorithms"
   ]
  },
  {
   "cell_type": "markdown",
   "metadata": {},
   "source": [
    "In this notebook we use the UMDAc implementation for the optimization of a cost function. This cost function that we are using in this notebook is a wellknown benchmark and is available in EDAspy."
   ]
  },
  {
   "cell_type": "code",
   "execution_count": 2,
   "metadata": {},
   "outputs": [],
   "source": [
    "from EDAspy.optimization.univariate import UMDAc\n",
    "from EDAspy.benchmarks import ContinuousBenchmarkingCEC14\n",
    "import matplotlib.pyplot as plt"
   ]
  },
  {
   "cell_type": "markdown",
   "metadata": {
    "pycharm": {
     "name": "#%% md\n"
    }
   },
   "source": [
    "We will be using 10 variables for the optimization."
   ]
  },
  {
   "cell_type": "code",
   "execution_count": 3,
   "metadata": {
    "pycharm": {
     "name": "#%%\n"
    }
   },
   "outputs": [],
   "source": [
    "n_vars = 10\n",
    "benchmarking = ContinuousBenchmarkingCEC14(n_vars)"
   ]
  },
  {
   "cell_type": "markdown",
   "metadata": {
    "pycharm": {
     "name": "#%% md\n"
    }
   },
   "source": [
    "We initialize the EDA with the following parameters:"
   ]
  },
  {
   "cell_type": "code",
   "execution_count": 4,
   "metadata": {},
   "outputs": [
    {
     "name": "stdout",
     "output_type": "stream",
     "text": [
      "IT:  0 \tBest cost:  1538.0498102558\n",
      "IT:  1 \tBest cost:  1538.0498102558\n",
      "IT:  2 \tBest cost:  1538.0498102558\n",
      "IT:  3 \tBest cost:  1482.8849022732288\n",
      "IT:  4 \tBest cost:  867.9970603090223\n",
      "IT:  5 \tBest cost:  697.6843160482513\n",
      "IT:  6 \tBest cost:  540.2449921038228\n",
      "IT:  7 \tBest cost:  508.8082465260363\n",
      "IT:  8 \tBest cost:  473.02557068449994\n",
      "IT:  9 \tBest cost:  471.6820874703693\n",
      "IT:  10 \tBest cost:  444.784512686368\n",
      "IT:  11 \tBest cost:  430.0809272630885\n",
      "IT:  12 \tBest cost:  430.0809272630885\n",
      "IT:  13 \tBest cost:  418.13134436942744\n",
      "IT:  14 \tBest cost:  415.80872209495976\n",
      "IT:  15 \tBest cost:  410.9735573421486\n",
      "IT:  16 \tBest cost:  410.9735573421486\n",
      "IT:  17 \tBest cost:  410.65895102752614\n",
      "IT:  18 \tBest cost:  409.67831062437597\n",
      "IT:  19 \tBest cost:  409.67831062437597\n",
      "IT:  20 \tBest cost:  409.5848089546931\n",
      "IT:  21 \tBest cost:  409.32341624262165\n",
      "IT:  22 \tBest cost:  409.28434258695455\n",
      "IT:  23 \tBest cost:  409.21250409462033\n",
      "IT:  24 \tBest cost:  409.13900999942615\n",
      "IT:  25 \tBest cost:  409.0863561270727\n",
      "IT:  26 \tBest cost:  409.06187149891366\n",
      "IT:  27 \tBest cost:  409.06187149891366\n",
      "IT:  28 \tBest cost:  409.03230038300205\n",
      "IT:  29 \tBest cost:  409.03230038300205\n",
      "IT:  30 \tBest cost:  409.0189515622851\n",
      "IT:  31 \tBest cost:  409.01518382316544\n",
      "IT:  32 \tBest cost:  409.01518382316544\n",
      "IT:  33 \tBest cost:  409.01518382316544\n",
      "IT:  34 \tBest cost:  408.99050495241113\n",
      "IT:  35 \tBest cost:  408.99050495241113\n",
      "IT:  36 \tBest cost:  408.99050495241113\n",
      "IT:  37 \tBest cost:  408.97471876923487\n",
      "IT:  38 \tBest cost:  408.97471876923487\n",
      "IT:  39 \tBest cost:  408.97471876923487\n",
      "IT:  40 \tBest cost:  408.97471876923487\n",
      "IT:  41 \tBest cost:  408.97471876923487\n",
      "IT:  42 \tBest cost:  408.97471876923487\n",
      "IT:  43 \tBest cost:  408.9718308403054\n",
      "IT:  44 \tBest cost:  408.95419648148953\n",
      "IT:  45 \tBest cost:  408.95419648148953\n",
      "IT:  46 \tBest cost:  408.95419648148953\n",
      "IT:  47 \tBest cost:  408.9452574334302\n",
      "IT:  48 \tBest cost:  408.9452574334302\n",
      "IT:  49 \tBest cost:  408.9232638318956\n",
      "IT:  50 \tBest cost:  408.9232638318956\n",
      "IT:  51 \tBest cost:  408.8898963389635\n",
      "IT:  52 \tBest cost:  408.8898963389635\n",
      "IT:  53 \tBest cost:  408.88964128401653\n",
      "IT:  54 \tBest cost:  408.87427752452606\n",
      "IT:  55 \tBest cost:  408.87427752452606\n",
      "IT:  56 \tBest cost:  408.87427752452606\n",
      "IT:  57 \tBest cost:  408.87427752452606\n",
      "IT:  58 \tBest cost:  408.87427752452606\n",
      "IT:  59 \tBest cost:  408.8711689040175\n",
      "IT:  60 \tBest cost:  408.848178730833\n",
      "IT:  61 \tBest cost:  408.848178730833\n",
      "IT:  62 \tBest cost:  408.848178730833\n",
      "IT:  63 \tBest cost:  408.84545748191374\n",
      "IT:  64 \tBest cost:  408.83732519125664\n",
      "IT:  65 \tBest cost:  408.8307214364164\n",
      "IT:  66 \tBest cost:  408.8138006844924\n",
      "IT:  67 \tBest cost:  408.8138006844924\n",
      "IT:  68 \tBest cost:  408.8123212117069\n",
      "IT:  69 \tBest cost:  408.7931546888041\n",
      "IT:  70 \tBest cost:  408.7711293644266\n",
      "IT:  71 \tBest cost:  408.7711293644266\n",
      "IT:  72 \tBest cost:  408.7711293644266\n",
      "IT:  73 \tBest cost:  408.7711293644266\n",
      "IT:  74 \tBest cost:  408.7711293644266\n",
      "IT:  75 \tBest cost:  408.7711293644266\n",
      "IT:  76 \tBest cost:  408.7599929714552\n",
      "IT:  77 \tBest cost:  408.7599929714552\n",
      "IT:  78 \tBest cost:  408.7376955592776\n",
      "IT:  79 \tBest cost:  408.7376955592776\n",
      "IT:  80 \tBest cost:  408.73728847237726\n",
      "IT:  81 \tBest cost:  408.73728847237726\n",
      "IT:  82 \tBest cost:  408.7309823834349\n",
      "IT:  83 \tBest cost:  408.7218367334839\n",
      "IT:  84 \tBest cost:  408.7218367334839\n",
      "IT:  85 \tBest cost:  408.7218367334839\n",
      "IT:  86 \tBest cost:  408.6900739833233\n",
      "IT:  87 \tBest cost:  408.6694498933826\n",
      "IT:  88 \tBest cost:  408.6694498933826\n",
      "IT:  89 \tBest cost:  408.6694498933826\n",
      "IT:  90 \tBest cost:  408.6694498933826\n",
      "IT:  91 \tBest cost:  408.65915201613507\n",
      "IT:  92 \tBest cost:  408.6311646890322\n",
      "IT:  93 \tBest cost:  408.6311646890322\n",
      "IT:  94 \tBest cost:  408.6311646890322\n",
      "IT:  95 \tBest cost:  408.6311646890322\n",
      "IT:  96 \tBest cost:  408.6116472359655\n",
      "IT:  97 \tBest cost:  408.6116472359655\n",
      "IT:  98 \tBest cost:  408.6116472359655\n",
      "IT:  99 \tBest cost:  408.6005620062988\n",
      "\tNFVALS = 10000 F = 408.6005620062988\n",
      "\tX = [ -22.74173429    3.84738581 -116.13695275    1.49311784   56.82413519\n",
      " -121.79819326    2.56635546   50.77802286   68.65625658  -28.19267328]\n"
     ]
    }
   ],
   "source": [
    "umda = UMDAc(size_gen=100, max_iter=100, dead_iter=10, n_variables=10, alpha=0.5, lower_bound=-100, upper_bound=100)\n",
    "# We leave bound by default\n",
    "eda_result = umda.minimize(cost_function=benchmarking.cec14_4, output_runtime=True)"
   ]
  },
  {
   "cell_type": "code",
   "execution_count": 5,
   "metadata": {},
   "outputs": [
    {
     "name": "stdout",
     "output_type": "stream",
     "text": [
      "Best cost found: 408.6005620062988\n",
      "Best solution:\n",
      " [ -22.74173429    3.84738581 -116.13695275    1.49311784   56.82413519\n",
      " -121.79819326    2.56635546   50.77802286   68.65625658  -28.19267328]\n"
     ]
    }
   ],
   "source": [
    "print('Best cost found:', eda_result.best_cost)\n",
    "print('Best solution:\\n', eda_result.best_ind)"
   ]
  },
  {
   "cell_type": "markdown",
   "metadata": {},
   "source": [
    "# Some plots"
   ]
  },
  {
   "cell_type": "markdown",
   "metadata": {
    "pycharm": {
     "name": "#%% md\n"
    }
   },
   "source": [
    "We plot the best cost in each iteration to show how the MAE of the feature selection is reduced compared to using all the variables."
   ]
  },
  {
   "cell_type": "code",
   "execution_count": 6,
   "metadata": {},
   "outputs": [
    {
     "data": {
      "image/png": "[encoded data removed]",
      "text/plain": [
       "<Figure size 1008x432 with 1 Axes>"
      ]
     },
     "metadata": {
      "needs_background": "light"
     },
     "output_type": "display_data"
    }
   ],
   "source": [
    "plt.figure(figsize = (14,6))\n",
    "\n",
    "plt.title('Best cost found in each iteration of EDA')\n",
    "plt.plot(list(range(len(eda_result.history))), eda_result.history, color='b')\n",
    "plt.xlabel('iteration')\n",
    "plt.ylabel('MAE')\n",
    "plt.show()"
   ]
  }
 ],
 "metadata": {
  "kernelspec": {
   "display_name": "Python 3",
   "language": "python",
   "name": "python3"
  },
  "language_info": {
   "codemirror_mode": {
    "name": "ipython",
    "version": 3
   },
   "file_extension": ".py",
   "mimetype": "text/x-python",
   "name": "python",
   "nbconvert_exporter": "python",
   "pygments_lexer": "ipython3",
   "version": "3.8.8"
  }
 },
 "nbformat": 4,
 "nbformat_minor": 4
}
