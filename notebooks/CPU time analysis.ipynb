{
 "cells": [
  {
   "cell_type": "code",
   "execution_count": 1,
   "metadata": {},
   "outputs": [
    {
     "name": "stderr",
     "output_type": "stream",
     "text": [
      "\n",
      "Bad key text.latex.preview in file c:\\users\\vicen\\appdata\\local\\programs\\python\\python37\\lib\\site-packages\\matplotlib\\mpl-data\\stylelib\\_classic_test.mplstyle, line 123 ('text.latex.preview : False')\n",
      "You probably need to get an updated matplotlibrc file from\n",
      "https://github.com/matplotlib/matplotlib/blob/v3.5.2/matplotlibrc.template\n",
      "or from the matplotlib source distribution\n",
      "\n",
      "Bad key mathtext.fallback_to_cm in file c:\\users\\vicen\\appdata\\local\\programs\\python\\python37\\lib\\site-packages\\matplotlib\\mpl-data\\stylelib\\_classic_test.mplstyle, line 155 ('mathtext.fallback_to_cm : True  # When True, use symbols from the Computer Modern')\n",
      "You probably need to get an updated matplotlibrc file from\n",
      "https://github.com/matplotlib/matplotlib/blob/v3.5.2/matplotlibrc.template\n",
      "or from the matplotlib source distribution\n",
      "\n",
      "Bad key savefig.jpeg_quality in file c:\\users\\vicen\\appdata\\local\\programs\\python\\python37\\lib\\site-packages\\matplotlib\\mpl-data\\stylelib\\_classic_test.mplstyle, line 418 ('savefig.jpeg_quality: 95       # when a jpeg is saved, the default quality parameter.')\n",
      "You probably need to get an updated matplotlibrc file from\n",
      "https://github.com/matplotlib/matplotlib/blob/v3.5.2/matplotlibrc.template\n",
      "or from the matplotlib source distribution\n",
      "\n",
      "Bad key keymap.all_axes in file c:\\users\\vicen\\appdata\\local\\programs\\python\\python37\\lib\\site-packages\\matplotlib\\mpl-data\\stylelib\\_classic_test.mplstyle, line 466 ('keymap.all_axes : a                 # enable all axes')\n",
      "You probably need to get an updated matplotlibrc file from\n",
      "https://github.com/matplotlib/matplotlib/blob/v3.5.2/matplotlibrc.template\n",
      "or from the matplotlib source distribution\n",
      "\n",
      "Bad key animation.avconv_path in file c:\\users\\vicen\\appdata\\local\\programs\\python\\python37\\lib\\site-packages\\matplotlib\\mpl-data\\stylelib\\_classic_test.mplstyle, line 477 ('animation.avconv_path: avconv     # Path to avconv binary. Without full path')\n",
      "You probably need to get an updated matplotlibrc file from\n",
      "https://github.com/matplotlib/matplotlib/blob/v3.5.2/matplotlibrc.template\n",
      "or from the matplotlib source distribution\n",
      "\n",
      "Bad key animation.avconv_args in file c:\\users\\vicen\\appdata\\local\\programs\\python\\python37\\lib\\site-packages\\matplotlib\\mpl-data\\stylelib\\_classic_test.mplstyle, line 479 ('animation.avconv_args:            # Additional arguments to pass to avconv')\n",
      "You probably need to get an updated matplotlibrc file from\n",
      "https://github.com/matplotlib/matplotlib/blob/v3.5.2/matplotlibrc.template\n",
      "or from the matplotlib source distribution\n"
     ]
    }
   ],
   "source": [
    "import warnings\n",
    "warnings.filterwarnings(\"ignore\")\n",
    "\n",
    "import matplotlib.pyplot as plt\n",
    "import numpy as np\n",
    "from time import process_time\n",
    "\n",
    "from EDAspy.optimization import EMNA, EGNA, SPEDA, UMDAc, MultivariateKEDA, UnivariateKEDA\n",
    "from EDAspy.benchmarks import ContinuousBenchmarkingCEC14"
   ]
  },
  {
   "cell_type": "code",
   "execution_count": 2,
   "metadata": {},
   "outputs": [],
   "source": [
    "n = 10\n",
    "max_it = 100\n",
    "dead_it = 100\n",
    "l = 1\n",
    "alpha = 0.4\n",
    "size_gen = 300\n",
    "\n",
    "bench = ContinuousBenchmarkingCEC14(n)"
   ]
  },
  {
   "cell_type": "code",
   "execution_count": 3,
   "metadata": {},
   "outputs": [
    {
     "name": "stdout",
     "output_type": "stream",
     "text": [
      "\tNFVALS = 30000 F = 407.96747095475195\n",
      "\tX = [ -21.91377099   14.71359673 -116.15195467   -5.21332947   56.69133233\n",
      " -121.02228307    3.06652542   50.36283965   68.55149048  -31.88681787]\n",
      "Best cost: 407.96747095475195 \tTime: 23.140625\n"
     ]
    }
   ],
   "source": [
    "umda = UMDAc(size_gen=size_gen, max_iter=max_it, dead_iter=dead_it, n_variables=n)\n",
    "start_time = process_time()\n",
    "result_umda = umda.minimize(bench.cec14_4, output_runtime=False)\n",
    "umda_time = process_time() - start_time\n",
    "print('Best cost:', result_umda.best_cost, '\\tTime:', umda_time)"
   ]
  },
  {
   "cell_type": "code",
   "execution_count": 4,
   "metadata": {},
   "outputs": [
    {
     "name": "stdout",
     "output_type": "stream",
     "text": [
      "\tNFVALS = 30000 F = 7125.7294604134\n",
      "\tX = [ 32.67549984 -29.23681288   9.32118021 -34.08139357  47.28289193\n",
      " -99.01445224 -26.39225702 -56.37531491 -19.37752236 -51.22615169]\n",
      "Best cost: 7125.7294604134 \tTime: 23.921875\n"
     ]
    }
   ],
   "source": [
    "emna = EMNA(size_gen=size_gen, max_iter=max_it, dead_iter=dead_it, n_variables=n, landscape_bounds=(-100, 100))\n",
    "start_time = process_time()\n",
    "result_emna = emna.minimize(bench.cec14_4, output_runtime=False)\n",
    "emna_time = process_time() - start_time\n",
    "print('Best cost:', result_emna.best_cost, '\\tTime:', emna_time)"
   ]
  },
  {
   "cell_type": "code",
   "execution_count": 5,
   "metadata": {},
   "outputs": [
    {
     "name": "stdout",
     "output_type": "stream",
     "text": [
      "\tNFVALS = 30000 F = 427.08400556224245\n",
      "\tX = [ -35.06899317   38.8005939  -112.71652538  -28.30666006   32.85674707\n",
      " -106.26442299    8.52482065   38.4232738    61.07180752  -37.20390963]\n",
      "Best cost: 427.08400556224245 \tTime: 26.078125\n"
     ]
    }
   ],
   "source": [
    "egna = EGNA(size_gen=size_gen, max_iter=max_it, dead_iter=dead_it, n_variables=n, landscape_bounds=(-100, 100))\n",
    "start_time = process_time()\n",
    "result_egna = egna.minimize(bench.cec14_4, output_runtime=False)\n",
    "egna_time = process_time() - start_time\n",
    "print('Best cost:', result_egna.best_cost, '\\tTime:', egna_time)"
   ]
  },
  {
   "cell_type": "code",
   "execution_count": 6,
   "metadata": {},
   "outputs": [
    {
     "name": "stdout",
     "output_type": "stream",
     "text": [
      "\tNFVALS = 30000 F = 408.9359541748589\n",
      "\tX = [ -25.33339979   -0.53495242 -115.71726657    5.70963109   57.40503847\n",
      " -121.13021379    3.09795994   50.06593469   67.91087809  -26.03070588]\n",
      "Best cost: 408.9359541748589 \tTime: 34.53125\n"
     ]
    }
   ],
   "source": [
    "speda = SPEDA(size_gen=size_gen, max_iter=max_it, dead_iter=dead_it, n_variables=n, landscape_bounds=(-100, 100), l=l)\n",
    "start_time = process_time()\n",
    "result_speda = speda.minimize(bench.cec14_4, output_runtime=False)\n",
    "speda_time = process_time() - start_time\n",
    "print('Best cost:', result_speda.best_cost, '\\tTime:', speda_time)"
   ]
  },
  {
   "cell_type": "code",
   "execution_count": 7,
   "metadata": {},
   "outputs": [
    {
     "name": "stdout",
     "output_type": "stream",
     "text": [
      "\tNFVALS = 30000 F = 404.6815776707767\n",
      "\tX = [ -38.18488886   45.6664974  -114.38235704  -40.8270725    19.48090636\n",
      " -121.59794504    9.50300924   51.01966835   66.91282162  -27.42156611]\n",
      "Best cost: 404.6815776707767 \tTime: 23.109375\n"
     ]
    }
   ],
   "source": [
    "keda = UnivariateKEDA(size_gen=size_gen, max_iter=max_it, dead_iter=dead_it, n_variables=n)\n",
    "start_time = process_time()\n",
    "result_u_keda = keda.minimize(bench.cec14_4, output_runtime=False)\n",
    "u_keda_time = process_time() - start_time\n",
    "print('Best cost:', result_u_keda.best_cost, '\\tTime:', u_keda_time)"
   ]
  },
  {
   "cell_type": "code",
   "execution_count": 8,
   "metadata": {},
   "outputs": [
    {
     "name": "stdout",
     "output_type": "stream",
     "text": [
      "\tNFVALS = 30000 F = 407.3726592145496\n",
      "\tX = [ -22.84932411   24.37927023 -117.4310807    -9.49216533   53.32462945\n",
      " -121.35643138    4.34512612   50.67325363   68.80785681  -34.51073545]\n",
      "Best cost: 407.3726592145496 \tTime: 130.796875\n"
     ]
    }
   ],
   "source": [
    "keda = MultivariateKEDA(size_gen=size_gen, max_iter=max_it, dead_iter=dead_it, n_variables=n, landscape_bounds=(-100, 100), l=l)\n",
    "start_time = process_time()\n",
    "result_keda = keda.minimize(bench.cec14_4, output_runtime=False)\n",
    "keda_time = process_time() - start_time\n",
    "print('Best cost:', result_keda.best_cost, '\\tTime:', keda_time)"
   ]
  },
  {
   "cell_type": "code",
   "execution_count": 14,
   "metadata": {},
   "outputs": [
    {
     "data": {
      "image/png": "[encoded data removed]",
      "text/plain": [
       "<Figure size 720x576 with 3 Axes>"
      ]
     },
     "metadata": {
      "needs_background": "light"
     },
     "output_type": "display_data"
    }
   ],
   "source": [
    "plt.figure(figsize=(10, 8))\n",
    "plt.subplot(311)\n",
    "plt.title('Convergence plot')\n",
    "# plt.plot(range(max_it), result_emna.history, label='EMNA')\n",
    "plt.plot(range(max_it), result_umda.history, label='UMDA')\n",
    "plt.plot(range(max_it), result_egna.history, label='EGNA')\n",
    "plt.plot(range(max_it), result_speda.history, label='SPEDA')\n",
    "plt.plot(range(max_it), result_keda.history, label='m_KEDA')\n",
    "plt.plot(range(max_it), result_u_keda.history, label='u_KEDA')\n",
    "plt.plot(range(max_it), result_umda.history, label='UMDA')\n",
    "\n",
    "plt.ylabel('fitness')\n",
    "\n",
    "plt.legend()\n",
    "\n",
    "plt.subplot(312)\n",
    "plt.title('Best cost found in 1 iteration')\n",
    "# plt.bar(0, result_emna.best_cost, label='EMNA')\n",
    "plt.bar(0, result_umda.best_cost, label='UMDA')\n",
    "plt.bar(1, result_egna.best_cost, label='EGNA')\n",
    "plt.bar(2, result_speda.best_cost, label='SPEDA')\n",
    "plt.bar(3, result_u_keda.best_cost, label='u_KEDA')\n",
    "plt.bar(4, result_keda.best_cost, label='m_KEDA')\n",
    "\n",
    "plt.ylim([400, 415])\n",
    "plt.xticks([0, 1, 2, 3, 4], ['UMDA', 'EGNA', 'SPEDA', 'u_KEDA', 'm_KEDA'])\n",
    "plt.ylabel('fitness')\n",
    "\n",
    "plt.subplot(313)\n",
    "plt.title('CPU time in one iteration')\n",
    "plt.bar(-1, umda_time, label='UMDA')\n",
    "plt.bar(0, emna_time, label='EMNA')\n",
    "plt.bar(1, egna_time, label='EGNA')\n",
    "plt.bar(2, speda_time, label='SPEDA')\n",
    "plt.bar(3, u_keda_time, label='u_KEDA')\n",
    "plt.bar(4, keda_time, label='m_KEDA')\n",
    "\n",
    "plt.xticks([-1, 0, 1, 2, 3, 4], ['UMDA', 'EMNA', 'EGNA', 'SPEDA', 'u_KEDA', 'm_KEDA'])\n",
    "plt.ylabel('CPU time (s)')\n",
    "\n",
    "plt.tight_layout()\n",
    "plt.savefig('cpu_comparison_continuous_opt.png')\n",
    "plt.show()"
   ]
  },
  {
   "cell_type": "code",
   "execution_count": 12,
   "metadata": {},
   "outputs": [
    {
     "data": {
      "image/png": "[encoded data removed]",
      "text/plain": [
       "<Figure size 720x288 with 1 Axes>"
      ]
     },
     "metadata": {
      "needs_background": "light"
     },
     "output_type": "display_data"
    }
   ],
   "source": [
    "plt.figure(figsize=(10, 4))\n",
    "plt.title('CPU time in one iteration')\n",
    "plt.bar(-1, umda_time, label='UMDA')\n",
    "plt.bar(0, emna_time, label='EMNA')\n",
    "plt.bar(1, egna_time, label='EGNA')\n",
    "plt.bar(2, speda_time, label='SPEDA')\n",
    "plt.bar(3, u_keda_time, label='u_KEDA')\n",
    "plt.bar(4, keda_time, label='m_KEDA')\n",
    "\n",
    "plt.xticks([-1, 0, 1, 2, 3, 4], ['UMDA', 'EMNA', 'EGNA', 'SPEDA', 'u_KEDA', 'm_KEDA'])\n",
    "plt.ylabel('CPU time (s)')\n",
    "\n",
    "plt.tight_layout()\n",
    "plt.savefig('cpu_comparison_continuous_opt.png')\n",
    "plt.show()"
   ]
  },
  {
   "cell_type": "code",
   "execution_count": null,
   "metadata": {},
   "outputs": [],
   "source": []
  }
 ],
 "metadata": {
  "kernelspec": {
   "display_name": "Python 3",
   "language": "python",
   "name": "python3"
  },
  "language_info": {
   "codemirror_mode": {
    "name": "ipython",
    "version": 3
   },
   "file_extension": ".py",
   "mimetype": "text/x-python",
   "name": "python",
   "nbconvert_exporter": "python",
   "pygments_lexer": "ipython3",
   "version": "3.7.6"
  }
 },
 "nbformat": 4,
 "nbformat_minor": 4
}
