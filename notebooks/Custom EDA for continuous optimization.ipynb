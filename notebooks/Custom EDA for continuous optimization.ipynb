{
 "cells": [
  {
   "cell_type": "markdown",
   "metadata": {
    "collapsed": true,
    "pycharm": {
     "name": "#%% md\n"
    }
   },
   "source": [
    "# Custom EDA implementation for continuous optimization"
   ],
   "outputs": []
  },
  {
   "cell_type": "markdown",
   "source": [
    "In this notebook we are building a custom EDA and using one of the already implemented benchmarks for continuous optimization. Note that our implementation if our own decision and each user can tune and build the EDA in the way he/she prefers using the functionalities of EDAspy. In this case, we are using a GBN as the probabilistic model."
   ],
   "metadata": {
    "collapsed": false,
    "pycharm": {
     "name": "#%% md\n"
    }
   },
   "outputs": [],
   "execution_count": 0
  },
  {
   "cell_type": "code",
   "execution_count": 5,
   "outputs": [],
   "source": [
    "from EDAspy.optimization.custom import EDACustom, GBN, UniformGenInit\n",
    "from EDAspy.benchmarks import ContinuousBenchmarkingCEC14"
   ],
   "metadata": {
    "collapsed": false,
    "pycharm": {
     "name": "#%%\n"
    }
   }
  },
  {
   "cell_type": "markdown",
   "source": [
    "We initialize an object with the EDACustom object. Note that, independently of the pm and init parameteres, we are goind to overwrite these with our own objects. If not, we have to choose which is the ID of the pm and init we want."
   ],
   "metadata": {
    "collapsed": false,
    "pycharm": {
     "name": "#%% md\n"
    }
   }
  },
  {
   "cell_type": "code",
   "execution_count": 6,
   "outputs": [],
   "source": [
    "n_variables = 10\n",
    "my_eda = EDACustom(size_gen=100, max_iter=100, dead_iter=n_variables, n_variables=n_variables, alpha=0.5,\n",
    "                   elite_factor=0.2, disp=True, pm=4, init=4, bounds=(-50, 50))\n",
    "\n",
    "benchmarking = ContinuousBenchmarkingCEC14(n_variables)"
   ],
   "metadata": {
    "collapsed": false,
    "pycharm": {
     "name": "#%%\n"
    }
   }
  },
  {
   "cell_type": "markdown",
   "source": [
    "We now implement our initializator and probabilistic model and add these to our EDA"
   ],
   "metadata": {
    "collapsed": false,
    "pycharm": {
     "name": "#%% md\n"
    }
   }
  },
  {
   "cell_type": "code",
   "execution_count": 7,
   "outputs": [],
   "source": [
    "my_gbn = GBN([str(i) for i in range(n_variables)])\n",
    "my_init = UniformGenInit(n_variables)\n",
    "\n",
    "my_eda.pm = my_gbn\n",
    "my_eda.init = my_init"
   ],
   "metadata": {
    "collapsed": false,
    "pycharm": {
     "name": "#%%\n"
    }
   }
  },
  {
   "cell_type": "markdown",
   "source": [
    "We run our EDA in one of the benchmarks that is implemented in EDAspy"
   ],
   "metadata": {
    "collapsed": false,
    "pycharm": {
     "name": "#%% md\n"
    }
   }
  },
  {
   "cell_type": "code",
   "execution_count": 8,
   "outputs": [
    {
     "name": "stdout",
     "output_type": "stream",
     "text": [
      "IT:  0 \tBest cost:  1966.827819597614\n",
      "IT:  1 \tBest cost:  1966.827819597614\n",
      "IT:  2 \tBest cost:  1279.057750193826\n",
      "IT:  3 \tBest cost:  622.4597112385836\n",
      "IT:  4 \tBest cost:  622.4597112385836\n",
      "IT:  5 \tBest cost:  534.513176516394\n",
      "IT:  6 \tBest cost:  519.932813395021\n",
      "IT:  7 \tBest cost:  478.17619101233873\n",
      "IT:  8 \tBest cost:  473.72796673676834\n",
      "IT:  9 \tBest cost:  454.33606475907817\n",
      "IT:  10 \tBest cost:  447.70584874561155\n",
      "IT:  11 \tBest cost:  447.70584874561155\n",
      "IT:  12 \tBest cost:  441.58919754752463\n",
      "IT:  13 \tBest cost:  441.58919754752463\n",
      "IT:  14 \tBest cost:  441.5529643047287\n",
      "IT:  15 \tBest cost:  435.70376604137334\n",
      "IT:  16 \tBest cost:  435.70376604137334\n",
      "IT:  17 \tBest cost:  435.05759487623516\n",
      "IT:  18 \tBest cost:  430.65829166804764\n",
      "IT:  19 \tBest cost:  430.31565599546263\n",
      "IT:  20 \tBest cost:  428.92865045172556\n",
      "IT:  21 \tBest cost:  427.98682018515524\n",
      "IT:  22 \tBest cost:  425.28976948752825\n",
      "IT:  23 \tBest cost:  425.28976948752825\n",
      "IT:  24 \tBest cost:  424.3584111078105\n",
      "IT:  25 \tBest cost:  423.7427153080361\n",
      "IT:  26 \tBest cost:  423.7427153080361\n",
      "IT:  27 \tBest cost:  423.264766786755\n",
      "IT:  28 \tBest cost:  422.58636342562824\n",
      "IT:  29 \tBest cost:  422.54585936714193\n",
      "IT:  30 \tBest cost:  421.86760318874565\n",
      "IT:  31 \tBest cost:  421.6531072917778\n",
      "IT:  32 \tBest cost:  421.52026194068634\n",
      "IT:  33 \tBest cost:  421.13557194344406\n",
      "IT:  34 \tBest cost:  420.893561208566\n",
      "IT:  35 \tBest cost:  420.74063046748716\n",
      "IT:  36 \tBest cost:  420.6268899878896\n",
      "IT:  37 \tBest cost:  420.298695150127\n",
      "IT:  38 \tBest cost:  420.2134545153859\n",
      "IT:  39 \tBest cost:  420.0709164208498\n",
      "IT:  40 \tBest cost:  419.85599657628734\n",
      "IT:  41 \tBest cost:  419.8402783260237\n",
      "IT:  42 \tBest cost:  419.6105649147052\n",
      "IT:  43 \tBest cost:  419.479200803414\n",
      "IT:  44 \tBest cost:  419.479200803414\n",
      "IT:  45 \tBest cost:  419.41899569361567\n",
      "IT:  46 \tBest cost:  419.30945428089257\n",
      "IT:  47 \tBest cost:  419.30945428089257\n",
      "IT:  48 \tBest cost:  419.19548531718334\n",
      "IT:  49 \tBest cost:  419.17448761451243\n",
      "IT:  50 \tBest cost:  419.1405537385868\n",
      "IT:  51 \tBest cost:  419.0881466226861\n",
      "IT:  52 \tBest cost:  419.0668455384281\n",
      "IT:  53 \tBest cost:  418.9772805202754\n",
      "IT:  54 \tBest cost:  418.9619483699397\n",
      "IT:  55 \tBest cost:  418.9071689432827\n",
      "IT:  56 \tBest cost:  418.9071689432827\n",
      "IT:  57 \tBest cost:  418.8905048765407\n",
      "IT:  58 \tBest cost:  418.8905048765407\n",
      "IT:  59 \tBest cost:  418.84713849170697\n",
      "IT:  60 \tBest cost:  418.84713849170697\n",
      "IT:  61 \tBest cost:  418.8008562288048\n",
      "IT:  62 \tBest cost:  418.8008562288048\n",
      "IT:  63 \tBest cost:  418.8008562288048\n",
      "IT:  64 \tBest cost:  418.777072089438\n",
      "IT:  65 \tBest cost:  418.76651951577907\n",
      "IT:  66 \tBest cost:  418.756676981807\n",
      "IT:  67 \tBest cost:  418.74902264450435\n",
      "IT:  68 \tBest cost:  418.73605777208695\n",
      "IT:  69 \tBest cost:  418.72897465725583\n",
      "IT:  70 \tBest cost:  418.72546946874974\n",
      "IT:  71 \tBest cost:  418.7146923507403\n",
      "IT:  72 \tBest cost:  418.705406966286\n",
      "IT:  73 \tBest cost:  418.69790333128975\n",
      "IT:  74 \tBest cost:  418.69481036435343\n",
      "IT:  75 \tBest cost:  418.6871300078509\n",
      "IT:  76 \tBest cost:  418.6838675318503\n",
      "IT:  77 \tBest cost:  418.6758163084528\n",
      "IT:  78 \tBest cost:  418.6717180252271\n",
      "IT:  79 \tBest cost:  418.66865929350024\n",
      "IT:  80 \tBest cost:  418.6681056344383\n",
      "IT:  81 \tBest cost:  418.6632414340686\n",
      "IT:  82 \tBest cost:  418.66155173431144\n",
      "IT:  83 \tBest cost:  418.6559046077594\n",
      "IT:  84 \tBest cost:  418.6559046077594\n",
      "IT:  85 \tBest cost:  418.6510854986764\n",
      "IT:  86 \tBest cost:  418.6502687798108\n",
      "IT:  87 \tBest cost:  418.64730836438383\n",
      "IT:  88 \tBest cost:  418.64656816136227\n",
      "IT:  89 \tBest cost:  418.64372425055575\n",
      "IT:  90 \tBest cost:  418.6415347185244\n",
      "IT:  91 \tBest cost:  418.6411530750378\n",
      "IT:  92 \tBest cost:  418.639654172087\n",
      "IT:  93 \tBest cost:  418.63701598534925\n",
      "IT:  94 \tBest cost:  418.6347059528091\n",
      "IT:  95 \tBest cost:  418.6347059528091\n",
      "IT:  96 \tBest cost:  418.63358060177484\n",
      "IT:  97 \tBest cost:  418.6318780637781\n",
      "IT:  98 \tBest cost:  418.6313863672357\n",
      "IT:  99 \tBest cost:  418.6294447676507\n",
      "\tNFVALS = 10000 F = 418.6294447676507\n",
      "\tX = [ -24.00507445    1.82575458 -102.46543814    2.39256436   56.40196662\n",
      " -118.79038786    5.77250773   48.47980957   61.65098122  -27.94352333]\n"
     ]
    }
   ],
   "source": [
    "eda_result = my_eda.minimize(cost_function=benchmarking.cec14_4)"
   ],
   "metadata": {
    "collapsed": false,
    "pycharm": {
     "name": "#%%\n"
    }
   }
  },
  {
   "cell_type": "markdown",
   "source": [
    "We can access the results in the result object:"
   ],
   "metadata": {
    "collapsed": false,
    "pycharm": {
     "name": "#%% md\n"
    }
   }
  },
  {
   "cell_type": "code",
   "execution_count": 10,
   "outputs": [
    {
     "name": "stdout",
     "output_type": "stream",
     "text": [
      "<EDAspy.optimization.eda_result.EdaResult object at 0x0000023051A8A400>\n"
     ]
    }
   ],
   "source": [
    "print(eda_result)"
   ],
   "metadata": {
    "collapsed": false,
    "pycharm": {
     "name": "#%%\n"
    }
   }
  }
 ],
 "metadata": {
  "kernelspec": {
   "display_name": "Python 3",
   "language": "python",
   "name": "python3"
  },
  "language_info": {
   "codemirror_mode": {
    "name": "ipython",
    "version": 2
   },
   "file_extension": ".py",
   "mimetype": "text/x-python",
   "name": "python",
   "nbconvert_exporter": "python",
   "pygments_lexer": "ipython2",
   "version": "2.7.6"
  }
 },
 "nbformat": 4,
 "nbformat_minor": 0
}