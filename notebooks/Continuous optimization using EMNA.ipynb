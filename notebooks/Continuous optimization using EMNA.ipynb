{
 "cells": [
  {
   "cell_type": "markdown",
   "metadata": {
    "collapsed": true,
    "pycharm": {
     "name": "#%% md\n"
    }
   },
   "source": [
    "# Continuous optimization using EMNA"
   ]
  },
  {
   "cell_type": "markdown",
   "source": [
    "In this notebook we use the EMNA approach to optimize a wellknown benchmark. Note that EMNA learns and sampled a multivariate Gaussian in each iteration.\n",
    "\n",
    "Import the algorithm and the benchmarks from EDAspy"
   ],
   "metadata": {
    "collapsed": false,
    "pycharm": {
     "name": "#%% md\n"
    }
   }
  },
  {
   "cell_type": "code",
   "execution_count": 1,
   "outputs": [],
   "source": [
    "from EDAspy.optimization import EMNA\n",
    "from EDAspy.benchmarks import ContinuousBenchmarkingCEC14"
   ],
   "metadata": {
    "collapsed": false,
    "pycharm": {
     "name": "#%%\n"
    }
   }
  },
  {
   "cell_type": "markdown",
   "source": [
    "We will be using a benchmark with 10 variables"
   ],
   "metadata": {
    "collapsed": false,
    "pycharm": {
     "name": "#%% md\n"
    }
   }
  },
  {
   "cell_type": "code",
   "execution_count": 3,
   "outputs": [],
   "source": [
    "n_variables = 10\n",
    "benchmarking = ContinuousBenchmarkingCEC14(n_variables)"
   ],
   "metadata": {
    "collapsed": false,
    "pycharm": {
     "name": "#%%\n"
    }
   }
  },
  {
   "cell_type": "markdown",
   "source": [
    "We initialize the algorithm and run it in the benchmark"
   ],
   "metadata": {
    "collapsed": false,
    "pycharm": {
     "name": "#%% md\n"
    }
   }
  },
  {
   "cell_type": "code",
   "execution_count": 5,
   "outputs": [
    {
     "name": "stdout",
     "output_type": "stream",
     "text": [
      "IT:  0 \tBest cost:  6321.791492533026\n",
      "IT:  1 \tBest cost:  6321.791492533026\n",
      "IT:  2 \tBest cost:  6321.791492533026\n",
      "IT:  3 \tBest cost:  6321.791492533026\n",
      "IT:  4 \tBest cost:  6321.791492533026\n",
      "IT:  5 \tBest cost:  6321.791492533026\n",
      "IT:  6 \tBest cost:  6321.791492533026\n",
      "IT:  7 \tBest cost:  6321.791492533026\n",
      "IT:  8 \tBest cost:  6321.791492533026\n",
      "IT:  9 \tBest cost:  6321.791492533026\n",
      "IT:  10 \tBest cost:  6289.384168982444\n",
      "IT:  11 \tBest cost:  6178.049596321485\n",
      "IT:  12 \tBest cost:  6151.846576928193\n",
      "IT:  13 \tBest cost:  6070.487454318104\n",
      "IT:  14 \tBest cost:  5993.022700435084\n",
      "IT:  15 \tBest cost:  5910.8799652220205\n",
      "IT:  16 \tBest cost:  5843.820131072385\n",
      "IT:  17 \tBest cost:  5837.456063191414\n",
      "IT:  18 \tBest cost:  5762.348554927651\n",
      "IT:  19 \tBest cost:  5699.572581425032\n",
      "IT:  20 \tBest cost:  5612.755219524306\n",
      "IT:  21 \tBest cost:  5577.350564918877\n",
      "IT:  22 \tBest cost:  5491.271282720183\n",
      "IT:  23 \tBest cost:  5443.984163094914\n",
      "IT:  24 \tBest cost:  5347.809872999862\n",
      "IT:  25 \tBest cost:  5250.6537850901295\n",
      "IT:  26 \tBest cost:  5202.248068836005\n",
      "IT:  27 \tBest cost:  5105.5007149816465\n",
      "IT:  28 \tBest cost:  5105.5007149816465\n",
      "IT:  29 \tBest cost:  5006.313448255198\n",
      "IT:  30 \tBest cost:  4965.979212338943\n",
      "IT:  31 \tBest cost:  4965.979212338943\n",
      "IT:  32 \tBest cost:  4929.615386028734\n",
      "IT:  33 \tBest cost:  4857.94459524825\n",
      "IT:  34 \tBest cost:  4832.739235471695\n",
      "IT:  35 \tBest cost:  4813.839930366659\n",
      "IT:  36 \tBest cost:  4745.637423388438\n",
      "IT:  37 \tBest cost:  4690.348315907495\n",
      "IT:  38 \tBest cost:  4651.879689207996\n",
      "IT:  39 \tBest cost:  4590.904472681845\n",
      "IT:  40 \tBest cost:  4511.809654282793\n",
      "IT:  41 \tBest cost:  4495.581895633442\n",
      "IT:  42 \tBest cost:  4421.936333470667\n",
      "IT:  43 \tBest cost:  4407.421941904989\n",
      "IT:  44 \tBest cost:  4330.324300493767\n",
      "IT:  45 \tBest cost:  4295.437194880951\n",
      "IT:  46 \tBest cost:  4260.862380089877\n",
      "IT:  47 \tBest cost:  4240.705162461136\n",
      "IT:  48 \tBest cost:  4223.873067752756\n",
      "IT:  49 \tBest cost:  4176.7647282438575\n",
      "IT:  50 \tBest cost:  4125.383202074356\n",
      "IT:  51 \tBest cost:  4082.2155124631804\n",
      "IT:  52 \tBest cost:  4044.042237749801\n",
      "IT:  53 \tBest cost:  3994.5109880431482\n",
      "IT:  54 \tBest cost:  3912.3043007736605\n",
      "IT:  55 \tBest cost:  3895.051909224891\n",
      "IT:  56 \tBest cost:  3861.203468131759\n",
      "IT:  57 \tBest cost:  3824.22718159735\n",
      "IT:  58 \tBest cost:  3761.023314512652\n",
      "IT:  59 \tBest cost:  3730.732818262788\n",
      "IT:  60 \tBest cost:  3669.1062163972883\n",
      "IT:  61 \tBest cost:  3636.93634495581\n",
      "IT:  62 \tBest cost:  3604.6236743788722\n",
      "IT:  63 \tBest cost:  3572.0454180768065\n",
      "IT:  64 \tBest cost:  3523.662267843225\n",
      "IT:  65 \tBest cost:  3468.052637450528\n",
      "IT:  66 \tBest cost:  3435.085956557346\n",
      "IT:  67 \tBest cost:  3406.611973655189\n",
      "IT:  68 \tBest cost:  3356.283390557186\n",
      "IT:  69 \tBest cost:  3329.351284654098\n",
      "IT:  70 \tBest cost:  3329.351284654098\n",
      "IT:  71 \tBest cost:  3276.6086708488506\n",
      "IT:  72 \tBest cost:  3240.506149762126\n",
      "IT:  73 \tBest cost:  3205.670323464592\n",
      "IT:  74 \tBest cost:  3146.9263636327737\n",
      "IT:  75 \tBest cost:  3146.9263636327737\n",
      "IT:  76 \tBest cost:  3129.295808545842\n",
      "IT:  77 \tBest cost:  3087.8375552317766\n",
      "IT:  78 \tBest cost:  3061.234394709996\n",
      "IT:  79 \tBest cost:  3014.2100119589413\n",
      "IT:  80 \tBest cost:  2938.8823736795302\n",
      "IT:  81 \tBest cost:  2929.6699893678665\n",
      "IT:  82 \tBest cost:  2912.785033120691\n",
      "IT:  83 \tBest cost:  2897.6685699171894\n",
      "IT:  84 \tBest cost:  2827.053807103408\n",
      "IT:  85 \tBest cost:  2809.235479946393\n",
      "IT:  86 \tBest cost:  2765.8829229211824\n",
      "IT:  87 \tBest cost:  2730.3565259291777\n",
      "IT:  88 \tBest cost:  2726.321845980926\n",
      "IT:  89 \tBest cost:  2671.535229582097\n",
      "IT:  90 \tBest cost:  2644.0723798576873\n",
      "IT:  91 \tBest cost:  2602.6401240070363\n",
      "IT:  92 \tBest cost:  2588.025376412287\n",
      "IT:  93 \tBest cost:  2566.579059752774\n",
      "IT:  94 \tBest cost:  2510.3138791020715\n",
      "IT:  95 \tBest cost:  2460.796265802065\n",
      "IT:  96 \tBest cost:  2416.7765302739504\n",
      "IT:  97 \tBest cost:  2416.7765302739504\n",
      "IT:  98 \tBest cost:  2416.7765302739504\n",
      "IT:  99 \tBest cost:  2388.018649522331\n",
      "\tNFVALS = 30000 F = 2388.018649522331\n",
      "\tX = [-55.50183874 -21.72817943 -33.75370648  31.68323167  45.13454363\n",
      " -45.37697331 -20.5470336   36.89301504  19.22628209  25.22107947]\n"
     ]
    }
   ],
   "source": [
    "emna = EMNA(size_gen=300, max_iter=100, dead_iter=20, n_variables=10,\n",
    "            landscape_bounds=(-60, 60))\n",
    "\n",
    "eda_result = emna.minimize(benchmarking.cec14_4, True)"
   ],
   "metadata": {
    "collapsed": false,
    "pycharm": {
     "name": "#%%\n"
    }
   }
  },
  {
   "cell_type": "markdown",
   "source": [
    "We plot the best cost found in each iteration of the algorithm."
   ],
   "metadata": {
    "collapsed": false,
    "pycharm": {
     "name": "#%% md\n"
    }
   }
  },
  {
   "cell_type": "code",
   "execution_count": 6,
   "outputs": [
    {
     "data": {
      "text/plain": "<Figure size 1008x432 with 1 Axes>",
      "image/png": "[encoded data removed]"
     },
     "metadata": {
      "needs_background": "light"
     },
     "output_type": "display_data"
    }
   ],
   "source": [
    "import matplotlib.pyplot as plt\n",
    "\n",
    "plt.figure(figsize = (14,6))\n",
    "\n",
    "plt.title('Best cost found in each iteration of EDA')\n",
    "plt.plot(list(range(len(eda_result.history))), eda_result.history, color='b')\n",
    "plt.xlabel('iteration')\n",
    "plt.ylabel('MAE')\n",
    "plt.show()"
   ],
   "metadata": {
    "collapsed": false,
    "pycharm": {
     "name": "#%%\n"
    }
   }
  },
  {
   "cell_type": "code",
   "execution_count": null,
   "outputs": [],
   "source": [],
   "metadata": {
    "collapsed": false,
    "pycharm": {
     "name": "#%%\n"
    }
   }
  }
 ],
 "metadata": {
  "kernelspec": {
   "display_name": "Python 3",
   "language": "python",
   "name": "python3"
  },
  "language_info": {
   "codemirror_mode": {
    "name": "ipython",
    "version": 2
   },
   "file_extension": ".py",
   "mimetype": "text/x-python",
   "name": "python",
   "nbconvert_exporter": "python",
   "pygments_lexer": "ipython2",
   "version": "2.7.6"
  }
 },
 "nbformat": 4,
 "nbformat_minor": 0
}